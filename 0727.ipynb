{
  "nbformat": 4,
  "nbformat_minor": 0,
  "metadata": {
    "colab": {
      "name": "0727.ipynb",
      "provenance": []
    },
    "kernelspec": {
      "name": "python3",
      "display_name": "Python 3"
    },
    "language_info": {
      "name": "python"
    }
  },
  "cells": [
    {
      "cell_type": "code",
      "source": [
        "while True:\n",
        "  # 입력값 받기\n",
        "  사칙연산 =input(\"사칙연산 기호(+,-,*,/)를 입력해주세요\")\n",
        "  첫번째숫자 = int(input(\"첫번째숫자를 입력해주세요\"))\n",
        "  두번째숫자=int(input(\"두번째숫자를 입력해주세요\"))\n",
        "  #계산 및 출력\n",
        "  if(사칙연산==\"+\"):\n",
        "    print(\"더하기입니다.\")\n",
        "    print(첫번째숫자+두번째숫자)\n",
        "  elif 사칙연산==\"-\":\n",
        "    print(\"빼기입니다.\")\n",
        "    print(첫번째숫자-두번째숫자)\n",
        "  elif 사칙연산==\"*\":\n",
        "    print(\"곱하기입니다.\")\n",
        "    print(첫번째숫자*두번째숫자)\n",
        "  elif 사칙연산==\"/\":\n",
        "    print(\"나누기입니다.\")\n",
        "    print(첫번째숫자/두번째숫자)\n",
        "    #종료 여부 확인 후 종료\n",
        "  종료여부=input(\"종료하려면 1을 입력해주세요.\")\n",
        "  if 종료여부==\"1\":\n",
        "    print(\"종료합니다.\")\n",
        "    break"
      ],
      "metadata": {
        "id": "sh5HD8moGCKk"
      },
      "execution_count": null,
      "outputs": []
    },
    {
      "cell_type": "code",
      "source": [
        "#함수만들기, 함수정의, 함수선언\n",
        "def hello():\n",
        "  print(\"안녕하세요\")"
      ],
      "metadata": {
        "id": "O1YzD39WImsN"
      },
      "execution_count": 6,
      "outputs": []
    },
    {
      "cell_type": "code",
      "source": [
        "hello()"
      ],
      "metadata": {
        "colab": {
          "base_uri": "https://localhost:8080/"
        },
        "id": "OvbFSD8cKobz",
        "outputId": "611b6906-2791-4cda-b7d9-ae4302abb681"
      },
      "execution_count": 7,
      "outputs": [
        {
          "output_type": "stream",
          "name": "stdout",
          "text": [
            "안녕하세요\n"
          ]
        }
      ]
    },
    {
      "cell_type": "code",
      "source": [
        "def helloToName(name):\n",
        "  print(name,\"님 안녕하세요\",sep=\"\")"
      ],
      "metadata": {
        "id": "LZdfGeksKrzM"
      },
      "execution_count": 11,
      "outputs": []
    },
    {
      "cell_type": "code",
      "source": [
        "helloToName(\"유현성\")"
      ],
      "metadata": {
        "colab": {
          "base_uri": "https://localhost:8080/"
        },
        "id": "UMsG4LlILalO",
        "outputId": "4997fe3e-da32-447c-cb97-38820d19b847"
      },
      "execution_count": 12,
      "outputs": [
        {
          "output_type": "stream",
          "name": "stdout",
          "text": [
            "유현성님 안녕하세요\n"
          ]
        }
      ]
    },
    {
      "cell_type": "code",
      "source": [
        "def add(num,num2):\n",
        "  result=num+num2"
      ],
      "metadata": {
        "id": "6ggKhFPkLd7p"
      },
      "execution_count": 13,
      "outputs": []
    },
    {
      "cell_type": "code",
      "source": [
        "add(3,4)"
      ],
      "metadata": {
        "id": "lnMjGKuYL0aV"
      },
      "execution_count": 14,
      "outputs": []
    },
    {
      "cell_type": "code",
      "source": [
        "addResult=add(1,2)"
      ],
      "metadata": {
        "id": "dKLTEWTdL2pk"
      },
      "execution_count": 15,
      "outputs": []
    },
    {
      "cell_type": "code",
      "source": [
        "print(addResult)"
      ],
      "metadata": {
        "colab": {
          "base_uri": "https://localhost:8080/"
        },
        "id": "VsYfbUN5MFVK",
        "outputId": "97a544e1-ea81-4701-ac10-b5a840c953bc"
      },
      "execution_count": 16,
      "outputs": [
        {
          "output_type": "stream",
          "name": "stdout",
          "text": [
            "None\n"
          ]
        }
      ]
    },
    {
      "cell_type": "code",
      "source": [
        "def add2(num,num2):\n",
        "  result=num+num2\n",
        "  return result"
      ],
      "metadata": {
        "id": "YN_6kGkaMHRv"
      },
      "execution_count": 17,
      "outputs": []
    },
    {
      "cell_type": "code",
      "source": [
        "addResult2=add2(1,2)\n",
        "print(addResult2)"
      ],
      "metadata": {
        "colab": {
          "base_uri": "https://localhost:8080/"
        },
        "id": "_knQqxxoMOXQ",
        "outputId": "1cf9c75c-7db7-4959-d612-b20d592b7e59"
      },
      "execution_count": 19,
      "outputs": [
        {
          "output_type": "stream",
          "name": "stdout",
          "text": [
            "3\n"
          ]
        }
      ]
    },
    {
      "cell_type": "code",
      "source": [
        "def add3(num,num2):\n",
        "  result=num+num2\n",
        "  return result\n",
        "  print(\"hi\")\n",
        "add3(1,2)"
      ],
      "metadata": {
        "colab": {
          "base_uri": "https://localhost:8080/"
        },
        "id": "NtQc3-aWMTsv",
        "outputId": "faa07b5f-b9b3-40f3-c7c9-def7457917e5"
      },
      "execution_count": 23,
      "outputs": [
        {
          "output_type": "execute_result",
          "data": {
            "text/plain": [
              "3"
            ]
          },
          "metadata": {},
          "execution_count": 23
        }
      ]
    },
    {
      "cell_type": "code",
      "source": [
        "def x빼기y(y,x):\n",
        "  뺄셈결과=x-y\n",
        "  print(뺄셈결과)\n",
        "x빼기y(20,10)\n",
        "x빼기y(x=20, y=10)"
      ],
      "metadata": {
        "colab": {
          "base_uri": "https://localhost:8080/"
        },
        "id": "TNbg1sLsNhBF",
        "outputId": "2a743c7c-7087-457c-ca0a-17a4539f40c4"
      },
      "execution_count": 24,
      "outputs": [
        {
          "output_type": "stream",
          "name": "stdout",
          "text": [
            "-10\n",
            "10\n"
          ]
        }
      ]
    },
    {
      "cell_type": "code",
      "source": [
        "def 덧셈뺄셈(x,y):\n",
        "  덧셈결과=x+y\n",
        "  뺄셈결과=x-y\n",
        "  return 덧셈결과,뺄셈결과"
      ],
      "metadata": {
        "id": "EIn559-IOGMp"
      },
      "execution_count": 25,
      "outputs": []
    },
    {
      "cell_type": "code",
      "source": [
        "결과=덧셈뺄셈(1,2)\n",
        "print(결과)"
      ],
      "metadata": {
        "colab": {
          "base_uri": "https://localhost:8080/"
        },
        "id": "p3z2XYIXTF6H",
        "outputId": "f7178501-4ed7-4907-e859-add107648047"
      },
      "execution_count": 26,
      "outputs": [
        {
          "output_type": "stream",
          "name": "stdout",
          "text": [
            "(3, -1)\n"
          ]
        }
      ]
    },
    {
      "cell_type": "code",
      "source": [
        "def 덧셈뺄셈(x,y):\n",
        "  덧셈결과=x+y\n",
        "  뺄셈결과=x-y\n",
        "  return 덧셈결과,뺄셈결과\n",
        "함수실행결과=덧셈뺄셈(20,10)\n",
        "print(함수실행결과)\n",
        "print(type(함수실행결과))\n",
        "print(함수실행결과[0],함수실행결과[1])\n",
        "덧셈결과=함수실행결과[0]\n",
        "뺄셈결과=함수실행결과[1]\n",
        "print(덧셈결과)\n",
        "print(뺄셈결과)"
      ],
      "metadata": {
        "colab": {
          "base_uri": "https://localhost:8080/"
        },
        "id": "mLKkQMp5TNXV",
        "outputId": "4e29406c-6dd3-482f-e99c-658bf61db688"
      },
      "execution_count": 27,
      "outputs": [
        {
          "output_type": "stream",
          "name": "stdout",
          "text": [
            "(30, 10)\n",
            "<class 'tuple'>\n",
            "30 10\n",
            "30\n",
            "10\n"
          ]
        }
      ]
    },
    {
      "cell_type": "code",
      "source": [
        "튜플값1,튜플값2=(1,2)\n",
        "print(튜플값1)"
      ],
      "metadata": {
        "colab": {
          "base_uri": "https://localhost:8080/"
        },
        "id": "5yCqaT0QUL8K",
        "outputId": "20cf8646-9520-4500-c963-eb91541e8b4b"
      },
      "execution_count": 28,
      "outputs": [
        {
          "output_type": "stream",
          "name": "stdout",
          "text": [
            "1\n"
          ]
        }
      ]
    },
    {
      "cell_type": "code",
      "source": [
        "def 값입력하기():\n",
        "  사칙연산=input(\"사칙연산 기호(+-*/)\")\n",
        "  첫번째숫자=int(input(\"첫번째숫자를 입력해주세요\"))\n",
        "  두번째숫자=int(input(\"두번째숫자를 입력해주세요\"))\n",
        "  return 사칙연산,첫번째숫자,두번째숫자"
      ],
      "metadata": {
        "id": "XpS6c891Ub0n"
      },
      "execution_count": 34,
      "outputs": []
    },
    {
      "cell_type": "code",
      "source": [
        "사칙연산,첫번째숫자,두번째숫자=값입력하기()"
      ],
      "metadata": {
        "colab": {
          "base_uri": "https://localhost:8080/"
        },
        "id": "k5_KG00yV_bo",
        "outputId": "ea13e5dc-b3a1-4617-ff84-fe3b4fbfa55e"
      },
      "execution_count": 30,
      "outputs": [
        {
          "name": "stdout",
          "output_type": "stream",
          "text": [
            "사칙연산 기호(+-*/)-\n",
            "첫번째숫자를 입력해주세요1\n",
            "두번째숫자를 입력해주세요3\n"
          ]
        }
      ]
    },
    {
      "cell_type": "code",
      "source": [
        "print(사칙연산,첫번째숫자,두번째숫자)"
      ],
      "metadata": {
        "colab": {
          "base_uri": "https://localhost:8080/"
        },
        "id": "dNezpIemWDM3",
        "outputId": "b70a4511-d412-40dc-d0c5-c056f760d81a"
      },
      "execution_count": 31,
      "outputs": [
        {
          "output_type": "stream",
          "name": "stdout",
          "text": [
            "- 1 3\n"
          ]
        }
      ]
    },
    {
      "cell_type": "code",
      "source": [
        "def 계산및출력(사칙연산,첫번째숫자,두번째숫자):\n",
        "   if(사칙연산==\"+\"):\n",
        "    print(\"더하기입니다.\")\n",
        "    print(첫번째숫자+두번째숫자)\n",
        "   elif 사칙연산==\"-\":\n",
        "    print(\"빼기입니다.\")\n",
        "    print(첫번째숫자-두번째숫자)\n",
        "   elif 사칙연산==\"*\":\n",
        "    print(\"곱하기입니다.\")\n",
        "    print(첫번째숫자*두번째숫자)\n",
        "   elif 사칙연산==\"/\":\n",
        "    print(\"나누기입니다.\")\n",
        "    print(첫번째숫자/두번째숫자)\n",
        "  "
      ],
      "metadata": {
        "id": "u9b1Ky_IWJ82"
      },
      "execution_count": 33,
      "outputs": []
    },
    {
      "cell_type": "code",
      "source": [
        "계산및출력(사칙연산=\"+\",첫번째숫자=10,두번째숫자=20)"
      ],
      "metadata": {
        "colab": {
          "base_uri": "https://localhost:8080/"
        },
        "id": "F91R6zP4WY1S",
        "outputId": "d6a14f0e-a49d-4a96-dc4f-9b1c546089a6"
      },
      "execution_count": 35,
      "outputs": [
        {
          "output_type": "stream",
          "name": "stdout",
          "text": [
            "더하기입니다.\n",
            "30\n"
          ]
        }
      ]
    },
    {
      "cell_type": "code",
      "source": [
        "def 종료여부확인():\n",
        "  종료여부=input(\"종료하려면 1을 입력해주세요\")\n",
        "  return 종료여부==\"1\""
      ],
      "metadata": {
        "id": "ACuLWoX1XSm9"
      },
      "execution_count": 36,
      "outputs": []
    },
    {
      "cell_type": "code",
      "source": [
        "종료여부확인"
      ],
      "metadata": {
        "colab": {
          "base_uri": "https://localhost:8080/"
        },
        "id": "-43CPHwnXlQ4",
        "outputId": "8bd11685-5aae-48b6-a9bd-83e000f74a76"
      },
      "execution_count": 37,
      "outputs": [
        {
          "output_type": "execute_result",
          "data": {
            "text/plain": [
              "<function __main__.종료여부확인>"
            ]
          },
          "metadata": {},
          "execution_count": 37
        }
      ]
    },
    {
      "cell_type": "code",
      "source": [
        "종료여부확인()"
      ],
      "metadata": {
        "colab": {
          "base_uri": "https://localhost:8080/"
        },
        "id": "1cIrut6hXmWB",
        "outputId": "7260bc4a-db62-4de6-8f43-990307bd0132"
      },
      "execution_count": 38,
      "outputs": [
        {
          "name": "stdout",
          "output_type": "stream",
          "text": [
            "종료하려면 1을 입력해주세요12312312\n"
          ]
        },
        {
          "output_type": "execute_result",
          "data": {
            "text/plain": [
              "False"
            ]
          },
          "metadata": {},
          "execution_count": 38
        }
      ]
    },
    {
      "cell_type": "code",
      "source": [
        "while True:\n",
        "  기호,첫번째숫자,두번째숫자=값입력하기()\n",
        "  계산및출력(기호,첫번째숫자,두번째숫자)\n",
        "  종료여부=종료여부확인()\n",
        "  if 종료여부:\n",
        "    break"
      ],
      "metadata": {
        "colab": {
          "base_uri": "https://localhost:8080/"
        },
        "id": "x02Szuc6Xov3",
        "outputId": "09f8fe8d-1632-4a7a-9368-7cd7d73750bc"
      },
      "execution_count": 39,
      "outputs": [
        {
          "name": "stdout",
          "output_type": "stream",
          "text": [
            "사칙연산 기호(+-*/)-\n",
            "첫번째숫자를 입력해주세요123123123\n",
            "두번째숫자를 입력해주세요12412424\n",
            "빼기입니다.\n",
            "110710699\n",
            "종료하려면 1을 입력해주세요1'\n",
            "사칙연산 기호(+-*/)/\n",
            "첫번째숫자를 입력해주세요32123131217639263218639126371236917826372398\n",
            "두번째숫자를 입력해주세요76896178326872367857821648642364196438641846281946287469846783469127346042367461638642364210346182468273463804618\n",
            "나누기입니다.\n",
            "4.1774678425616136e-70\n",
            "종료하려면 1을 입력해주세요1\n"
          ]
        }
      ]
    },
    {
      "cell_type": "code",
      "source": [
        "def 계산기():\n",
        "  while True:\n",
        "   기호,첫번째숫자,두번째숫자=값입력하기()\n",
        "   계산및출력(기호,첫번째숫자,두번째숫자)\n",
        "   종료여부=종료여부확인()\n",
        "   if 종료여부:\n",
        "    break"
      ],
      "metadata": {
        "id": "tpEUTnrAZBcT"
      },
      "execution_count": 40,
      "outputs": []
    },
    {
      "cell_type": "code",
      "source": [
        "계산기()"
      ],
      "metadata": {
        "colab": {
          "base_uri": "https://localhost:8080/"
        },
        "id": "3DdRz_49Z0Fc",
        "outputId": "449beed9-83f2-435c-d8db-e2af0ad5da2c"
      },
      "execution_count": 41,
      "outputs": [
        {
          "name": "stdout",
          "output_type": "stream",
          "text": [
            "사칙연산 기호(+-*/)-\n",
            "첫번째숫자를 입력해주세요12312\n",
            "두번째숫자를 입력해주세요14141414\n",
            "빼기입니다.\n",
            "-14129102\n",
            "종료하려면 1을 입력해주세요1\n"
          ]
        }
      ]
    },
    {
      "cell_type": "code",
      "source": [
        "num=1\n",
        "print(type(num))"
      ],
      "metadata": {
        "colab": {
          "base_uri": "https://localhost:8080/"
        },
        "id": "7n1U0XYeZ2Hp",
        "outputId": "6db80c6e-0fdf-4a2f-adc5-dff9321f4024"
      },
      "execution_count": 42,
      "outputs": [
        {
          "output_type": "stream",
          "name": "stdout",
          "text": [
            "<class 'int'>\n"
          ]
        }
      ]
    },
    {
      "cell_type": "code",
      "source": [
        "string=\"hello\"\n",
        "print(type(string))"
      ],
      "metadata": {
        "colab": {
          "base_uri": "https://localhost:8080/"
        },
        "id": "wycUJagxi2gI",
        "outputId": "2e011830-ad3d-461e-b042-960cfc244cd8"
      },
      "execution_count": 43,
      "outputs": [
        {
          "output_type": "stream",
          "name": "stdout",
          "text": [
            "<class 'str'>\n"
          ]
        }
      ]
    },
    {
      "cell_type": "code",
      "source": [
        "print(type(61782617826429649178629782276193697236197631729638))"
      ],
      "metadata": {
        "colab": {
          "base_uri": "https://localhost:8080/"
        },
        "id": "_GP-_pvhi_-h",
        "outputId": "34d333d4-6916-4af7-c0f3-cd08172f80f0"
      },
      "execution_count": 44,
      "outputs": [
        {
          "output_type": "stream",
          "name": "stdout",
          "text": [
            "<class 'int'>\n"
          ]
        }
      ]
    },
    {
      "cell_type": "code",
      "source": [
        "class Animal:\n",
        "  pass"
      ],
      "metadata": {
        "id": "yTTc4sL9jRFP"
      },
      "execution_count": 45,
      "outputs": []
    },
    {
      "cell_type": "code",
      "source": [
        "animal=Animal()\n",
        "print(type(animal))"
      ],
      "metadata": {
        "colab": {
          "base_uri": "https://localhost:8080/"
        },
        "id": "lFqTA9v0jeM-",
        "outputId": "786c0bbf-48a8-413b-a374-f661d7e06060"
      },
      "execution_count": 46,
      "outputs": [
        {
          "output_type": "stream",
          "name": "stdout",
          "text": [
            "<class '__main__.Animal'>\n"
          ]
        }
      ]
    },
    {
      "cell_type": "code",
      "source": [
        "class Animal:\n",
        "  kor=\"동물\"\n",
        "  def 숨쉬기():\n",
        "    print(\"숨을 쉽니다\")\n",
        "  def 움직이기():\n",
        "    print(\"몸을 움직입니다\")"
      ],
      "metadata": {
        "id": "rUkJhbXfjzPN"
      },
      "execution_count": 47,
      "outputs": []
    },
    {
      "cell_type": "code",
      "source": [
        "개=Animal()\n",
        "print(type(개))\n",
        "Animal.숨쉬기()\n",
        "Animal.움직이기()\n",
        "print(\"=========================\")\n",
        "개.숨쉬기()\n",
        "개.움직이기()"
      ],
      "metadata": {
        "colab": {
          "base_uri": "https://localhost:8080/",
          "height": 307
        },
        "id": "qcz5f4JOkVpd",
        "outputId": "fcfbc27a-fade-4808-df8b-ae4349614e09"
      },
      "execution_count": 48,
      "outputs": [
        {
          "output_type": "stream",
          "name": "stdout",
          "text": [
            "<class '__main__.Animal'>\n",
            "숨을 쉽니다\n",
            "몸을 움직입니다\n",
            "=========================\n"
          ]
        },
        {
          "output_type": "error",
          "ename": "TypeError",
          "evalue": "ignored",
          "traceback": [
            "\u001b[0;31m---------------------------------------------------------------------------\u001b[0m",
            "\u001b[0;31mTypeError\u001b[0m                                 Traceback (most recent call last)",
            "\u001b[0;32m<ipython-input-48-be4d7a9c94eb>\u001b[0m in \u001b[0;36m<module>\u001b[0;34m()\u001b[0m\n\u001b[1;32m      4\u001b[0m \u001b[0mAnimal\u001b[0m\u001b[0;34m.\u001b[0m\u001b[0m움직이기\u001b[0m\u001b[0;34m(\u001b[0m\u001b[0;34m)\u001b[0m\u001b[0;34m\u001b[0m\u001b[0;34m\u001b[0m\u001b[0m\n\u001b[1;32m      5\u001b[0m \u001b[0mprint\u001b[0m\u001b[0;34m(\u001b[0m\u001b[0;34m\"=========================\"\u001b[0m\u001b[0;34m)\u001b[0m\u001b[0;34m\u001b[0m\u001b[0;34m\u001b[0m\u001b[0m\n\u001b[0;32m----> 6\u001b[0;31m \u001b[0m개\u001b[0m\u001b[0;34m.\u001b[0m\u001b[0m숨쉬기\u001b[0m\u001b[0;34m(\u001b[0m\u001b[0;34m)\u001b[0m\u001b[0;34m\u001b[0m\u001b[0;34m\u001b[0m\u001b[0m\n\u001b[0m\u001b[1;32m      7\u001b[0m \u001b[0m개\u001b[0m\u001b[0;34m.\u001b[0m\u001b[0m움직이기\u001b[0m\u001b[0;34m(\u001b[0m\u001b[0;34m)\u001b[0m\u001b[0;34m\u001b[0m\u001b[0;34m\u001b[0m\u001b[0m\n",
            "\u001b[0;31mTypeError\u001b[0m: 숨쉬기() takes 0 positional arguments but 1 was given"
          ]
        }
      ]
    },
    {
      "cell_type": "code",
      "source": [
        "class Animal:\n",
        "  kor=\"동물\"\n",
        "  def 숨쉬기(self):\n",
        "    print(\"숨을 쉽니다\")\n",
        "  def 움직이기(self):\n",
        "    print(\"몸을 움직입니다\")\n",
        "  def 말하기(self,문장):\n",
        "    print(문장)\n",
        "animal=Animal()\n",
        "animal.숨쉬기()\n",
        "animal.움직이기()\n",
        "animal.말하기(\"안녕하세요\")\n",
        "print(animal.kor)"
      ],
      "metadata": {
        "colab": {
          "base_uri": "https://localhost:8080/"
        },
        "id": "4GGJteDXkoTh",
        "outputId": "ce6211f5-dce2-4867-85df-33afda148f1e"
      },
      "execution_count": 49,
      "outputs": [
        {
          "output_type": "stream",
          "name": "stdout",
          "text": [
            "숨을 쉽니다\n",
            "몸을 움직입니다\n",
            "안녕하세요\n",
            "동물\n"
          ]
        }
      ]
    },
    {
      "cell_type": "code",
      "source": [
        "class Animal:\n",
        "  kor=\"동물\"\n",
        "  def __init__(self):\n",
        "    print(\"태어났습니다\")\n",
        "  def 숨쉬기(self):\n",
        "    print(\"숨을 쉽니다\")\n",
        "  def 움직이기(self):\n",
        "    print(\"몸을 움직입니다\")\n",
        "  def 말하기(self,문장):\n",
        "    print(문장)\n",
        "  def __del__(self):\n",
        "    print(\"죽었습니다\")\n",
        "animal=Animal()\n",
        "print(\"===================\")\n",
        "del animal"
      ],
      "metadata": {
        "colab": {
          "base_uri": "https://localhost:8080/"
        },
        "id": "EqwIovqclpkb",
        "outputId": "63f21982-9cd5-43b2-8581-aa85eb0878c1"
      },
      "execution_count": 55,
      "outputs": [
        {
          "output_type": "stream",
          "name": "stdout",
          "text": [
            "태어났습니다\n",
            "===================\n",
            "죽었습니다\n"
          ]
        }
      ]
    },
    {
      "cell_type": "code",
      "source": [
        "class Animal:\n",
        "  def __init__(self,키,생일):\n",
        "    self.키 =키\n",
        "    self.생일 =생일\n",
        "    print(\"태어났습니다\")\n",
        "  def 키얻기(self):\n",
        "    print(f\"키는{self.키}cm 입니다\")\n",
        "  def 생일얻기(self):\n",
        "    print(f\"생일은{self.생일}입니다\")\n",
        "  def 숨쉬기(self):\n",
        "    print(\"숨을 쉽니다\")\n",
        "  def 움직이기(self):\n",
        "    print(\"움직이기 시작합니다\")\n",
        "  def 말하기(self,문장):\n",
        "    print(문장)\n",
        "  def __del__(self):\n",
        "    print(\"죽었습니다\")"
      ],
      "metadata": {
        "id": "wxJNbnAame1l"
      },
      "execution_count": 91,
      "outputs": []
    },
    {
      "cell_type": "code",
      "source": [
        "animal=Animal(키=30, 생일=20220219)\n",
        "print(animal.키)\n",
        "animal.키얻기()"
      ],
      "metadata": {
        "colab": {
          "base_uri": "https://localhost:8080/"
        },
        "id": "kBEaKarMpAa5",
        "outputId": "4c0370ba-efdd-4e52-d4b2-bf7170c8535c"
      },
      "execution_count": 92,
      "outputs": [
        {
          "output_type": "stream",
          "name": "stdout",
          "text": [
            "태어났습니다\n",
            "30\n",
            "키는30cm 입니다\n"
          ]
        }
      ]
    },
    {
      "cell_type": "code",
      "source": [
        "dir(animal)"
      ],
      "metadata": {
        "colab": {
          "base_uri": "https://localhost:8080/"
        },
        "id": "6IWd5TRjpkG2",
        "outputId": "e309b9a9-c9dd-41ae-859c-7412fc30126d"
      },
      "execution_count": 66,
      "outputs": [
        {
          "output_type": "execute_result",
          "data": {
            "text/plain": [
              "['__class__',\n",
              " '__del__',\n",
              " '__delattr__',\n",
              " '__dict__',\n",
              " '__dir__',\n",
              " '__doc__',\n",
              " '__eq__',\n",
              " '__format__',\n",
              " '__ge__',\n",
              " '__getattribute__',\n",
              " '__gt__',\n",
              " '__hash__',\n",
              " '__init__',\n",
              " '__init_subclass__',\n",
              " '__le__',\n",
              " '__lt__',\n",
              " '__module__',\n",
              " '__ne__',\n",
              " '__new__',\n",
              " '__reduce__',\n",
              " '__reduce_ex__',\n",
              " '__repr__',\n",
              " '__setattr__',\n",
              " '__sizeof__',\n",
              " '__str__',\n",
              " '__subclasshook__',\n",
              " '__weakref__',\n",
              " '말하기',\n",
              " '생일',\n",
              " '생일얻기',\n",
              " '숨쉬기',\n",
              " '움직이기',\n",
              " '키',\n",
              " '키얻기']"
            ]
          },
          "metadata": {},
          "execution_count": 66
        }
      ]
    },
    {
      "cell_type": "code",
      "source": [
        "print(type(animal.말하기))"
      ],
      "metadata": {
        "colab": {
          "base_uri": "https://localhost:8080/"
        },
        "id": "dApvzOMaqWz0",
        "outputId": "891fd3ed-f71f-4990-a03e-22272a679158"
      },
      "execution_count": 67,
      "outputs": [
        {
          "output_type": "stream",
          "name": "stdout",
          "text": [
            "<class 'method'>\n"
          ]
        }
      ]
    },
    {
      "cell_type": "code",
      "source": [
        "class 개(Animal):\n",
        "  def 짖기(self):\n",
        "    print(\"멍\")"
      ],
      "metadata": {
        "id": "yDEzzJyAqq7S"
      },
      "execution_count": 93,
      "outputs": []
    },
    {
      "cell_type": "code",
      "source": [
        "요크셔=개(키=30,생일=\"오늘\")\n",
        "요크셔.짖기()"
      ],
      "metadata": {
        "colab": {
          "base_uri": "https://localhost:8080/"
        },
        "id": "HkppzUzCq6ds",
        "outputId": "f5c7ba65-e3ee-4b62-fc94-bff20ebdd3a4"
      },
      "execution_count": 94,
      "outputs": [
        {
          "output_type": "stream",
          "name": "stdout",
          "text": [
            "태어났습니다\n",
            "멍\n"
          ]
        }
      ]
    },
    {
      "cell_type": "code",
      "source": [
        "요크셔.키얻기()"
      ],
      "metadata": {
        "colab": {
          "base_uri": "https://localhost:8080/"
        },
        "id": "asPRfzKArBwK",
        "outputId": "4f619fda-5925-4bee-befb-6a301c38acea"
      },
      "execution_count": 95,
      "outputs": [
        {
          "output_type": "stream",
          "name": "stdout",
          "text": [
            "키는30cm 입니다\n"
          ]
        }
      ]
    },
    {
      "cell_type": "code",
      "source": [
        "del 요크셔"
      ],
      "metadata": {
        "colab": {
          "base_uri": "https://localhost:8080/",
          "height": 176
        },
        "id": "byZmX8DmrVm2",
        "outputId": "ffee9118-b8e1-4a55-adc4-4a4bd1df0bcc"
      },
      "execution_count": 97,
      "outputs": [
        {
          "output_type": "error",
          "ename": "NameError",
          "evalue": "ignored",
          "traceback": [
            "\u001b[0;31m---------------------------------------------------------------------------\u001b[0m",
            "\u001b[0;31mNameError\u001b[0m                                 Traceback (most recent call last)",
            "\u001b[0;32m<ipython-input-97-91a9c664239f>\u001b[0m in \u001b[0;36m<module>\u001b[0;34m()\u001b[0m\n\u001b[0;32m----> 1\u001b[0;31m \u001b[0;32mdel\u001b[0m \u001b[0m요크셔\u001b[0m\u001b[0;34m\u001b[0m\u001b[0;34m\u001b[0m\u001b[0m\n\u001b[0m",
            "\u001b[0;31mNameError\u001b[0m: name '요크셔' is not defined"
          ]
        }
      ]
    },
    {
      "cell_type": "code",
      "source": [
        ""
      ],
      "metadata": {
        "id": "wg01OWBZrqiQ"
      },
      "execution_count": null,
      "outputs": []
    }
  ]
}