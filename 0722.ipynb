{
  "nbformat": 4,
  "nbformat_minor": 0,
  "metadata": {
    "colab": {
      "name": "0722.ipynb",
      "provenance": [],
      "collapsed_sections": []
    },
    "kernelspec": {
      "name": "python3",
      "display_name": "Python 3"
    },
    "language_info": {
      "name": "python"
    }
  },
  "cells": [
    {
      "cell_type": "code",
      "source": [
        "print(\"hello world\")"
      ],
      "metadata": {
        "colab": {
          "base_uri": "https://localhost:8080/"
        },
        "id": "xQyd8n-olHQg",
        "outputId": "fbd518f1-c282-4380-c36b-a291e756dbde"
      },
      "execution_count": null,
      "outputs": [
        {
          "output_type": "stream",
          "name": "stdout",
          "text": [
            "hello world\n"
          ]
        }
      ]
    },
    {
      "cell_type": "code",
      "source": [
        "문자 = \"안녕하세요\""
      ],
      "metadata": {
        "id": "otFvVwWUlPef"
      },
      "execution_count": null,
      "outputs": []
    },
    {
      "cell_type": "code",
      "source": [
        "print(문자)"
      ],
      "metadata": {
        "colab": {
          "base_uri": "https://localhost:8080/"
        },
        "id": "-a2HkV0FlTB9",
        "outputId": "7ca7f229-00f3-4ad5-ca24-803f4aaa6666"
      },
      "execution_count": null,
      "outputs": [
        {
          "output_type": "stream",
          "name": "stdout",
          "text": [
            "안녕하세요\n"
          ]
        }
      ]
    },
    {
      "cell_type": "code",
      "source": [
        "문자=\"'\""
      ],
      "metadata": {
        "id": "Vb21eRapmJn4"
      },
      "execution_count": null,
      "outputs": []
    },
    {
      "cell_type": "code",
      "source": [
        "print(문자)"
      ],
      "metadata": {
        "colab": {
          "base_uri": "https://localhost:8080/"
        },
        "id": "SbDxsdJLmuRM",
        "outputId": "eea3cfa5-e58d-438e-b1f3-945859fa58ae"
      },
      "execution_count": null,
      "outputs": [
        {
          "output_type": "stream",
          "name": "stdout",
          "text": [
            "'\n"
          ]
        }
      ]
    },
    {
      "cell_type": "code",
      "source": [
        "print(\"\\\"\")"
      ],
      "metadata": {
        "colab": {
          "base_uri": "https://localhost:8080/"
        },
        "id": "WcmJ_MwImzi5",
        "outputId": "750f821d-d08b-49b3-b1fa-9d330ec40658"
      },
      "execution_count": null,
      "outputs": [
        {
          "output_type": "stream",
          "name": "stdout",
          "text": [
            "\"\n"
          ]
        }
      ]
    },
    {
      "cell_type": "code",
      "source": [
        "print(\"안녕하세요\\b\")#\\b는 백스페이스"
      ],
      "metadata": {
        "colab": {
          "base_uri": "https://localhost:8080/"
        },
        "id": "t-wMIRG9nHpq",
        "outputId": "e33c9b5d-cb9e-44dd-c649-e1c6d8e71e8c"
      },
      "execution_count": null,
      "outputs": [
        {
          "output_type": "stream",
          "name": "stdout",
          "text": [
            "안녕하세요\b\n"
          ]
        }
      ]
    },
    {
      "cell_type": "code",
      "source": [
        "print(\"안녕하\\n세요\")# \\n 은 줄바꿈"
      ],
      "metadata": {
        "colab": {
          "base_uri": "https://localhost:8080/"
        },
        "id": "zUu_sorknNxK",
        "outputId": "1df671b8-b4f0-4328-aaee-8cbce7a9f18d"
      },
      "execution_count": null,
      "outputs": [
        {
          "output_type": "stream",
          "name": "stdout",
          "text": [
            "안녕하\n",
            "세요\n"
          ]
        }
      ]
    },
    {
      "cell_type": "code",
      "source": [
        "print(\"안녕하\\t세요\")# \\t는 탭"
      ],
      "metadata": {
        "colab": {
          "base_uri": "https://localhost:8080/"
        },
        "id": "aJ_lyYxdnZbN",
        "outputId": "bdac945a-a192-42d6-c86c-f516e64d74bf"
      },
      "execution_count": null,
      "outputs": [
        {
          "output_type": "stream",
          "name": "stdout",
          "text": [
            "안녕하\t세요\n"
          ]
        }
      ]
    },
    {
      "cell_type": "code",
      "source": [
        "print(\"안녕하\\\\세요\")# \\\\ \\문자 적어주기"
      ],
      "metadata": {
        "colab": {
          "base_uri": "https://localhost:8080/"
        },
        "id": "Ni6qdcCxnmRy",
        "outputId": "ef521abb-aede-457c-9854-1601c45770d2"
      },
      "execution_count": null,
      "outputs": [
        {
          "output_type": "stream",
          "name": "stdout",
          "text": [
            "안녕하\\세요\n"
          ]
        }
      ]
    },
    {
      "cell_type": "code",
      "source": [
        "print(\"\\\"\\'\")# \\\" 는 쌍따옴표 \\' 는 따옴표"
      ],
      "metadata": {
        "colab": {
          "base_uri": "https://localhost:8080/"
        },
        "id": "tQCjpO96nypA",
        "outputId": "d7bccff0-fc58-4f5c-f613-225ddb078d4e"
      },
      "execution_count": null,
      "outputs": [
        {
          "output_type": "stream",
          "name": "stdout",
          "text": [
            "\"'\n"
          ]
        }
      ]
    },
    {
      "cell_type": "code",
      "source": [
        "print(\"\\\\\\\"(\\'.\\')\\\"/\")"
      ],
      "metadata": {
        "colab": {
          "base_uri": "https://localhost:8080/"
        },
        "id": "hJ8a9EZEn8lv",
        "outputId": "61f0e9e5-b1b9-4df1-9e38-2766683facea"
      },
      "execution_count": null,
      "outputs": [
        {
          "output_type": "stream",
          "name": "stdout",
          "text": [
            "\\\"('.')\"/\n"
          ]
        }
      ]
    },
    {
      "cell_type": "code",
      "source": [
        "print(\"데이터1\",\"데이터2\",\"데이터3\")"
      ],
      "metadata": {
        "colab": {
          "base_uri": "https://localhost:8080/"
        },
        "id": "zj6o445ap3b-",
        "outputId": "e5acfe78-c870-4417-a424-b8e47e269673"
      },
      "execution_count": null,
      "outputs": [
        {
          "output_type": "stream",
          "name": "stdout",
          "text": [
            "데이터1 데이터2 데이터3\n"
          ]
        }
      ]
    },
    {
      "cell_type": "code",
      "source": [
        "print(\"데이터1\",\"데이터2\",\"데이터3\",sep=\"\\n\",end=\"끝\")#sep는 기본값으로 \" \"를 가지고 있어 자도으로 띄어쓰기 됨 \"\"사이에 원하는 값을 넣으면 출력 가능 end는 맨 마지막 값의 마지막에 원하는 값 출력 가능"
      ],
      "metadata": {
        "colab": {
          "base_uri": "https://localhost:8080/"
        },
        "id": "TFY53Yo1q1rZ",
        "outputId": "bab84277-5427-4027-cdae-562307b4055d"
      },
      "execution_count": null,
      "outputs": [
        {
          "output_type": "stream",
          "name": "stdout",
          "text": [
            "데이터1\n",
            "데이터2\n",
            "데이터3끝"
          ]
        }
      ]
    },
    {
      "cell_type": "code",
      "source": [
        "전화번호1 = \"010\"\n",
        "전화번호2= \"5402\"\n",
        "전화번호3 = \"8371\"\n",
        "print(전화번호1,전화번호2, 전화번호3 ,sep=\"-\")"
      ],
      "metadata": {
        "colab": {
          "base_uri": "https://localhost:8080/"
        },
        "id": "s-tTTY2_rIMv",
        "outputId": "8dc2e879-a7e5-4dc3-a14b-f4fe1f030ac9"
      },
      "execution_count": null,
      "outputs": [
        {
          "output_type": "stream",
          "name": "stdout",
          "text": [
            "010-5402-8371\n"
          ]
        }
      ]
    },
    {
      "cell_type": "code",
      "source": [
        "이름 = \"유현성\""
      ],
      "metadata": {
        "id": "f-YVTttxtIld"
      },
      "execution_count": null,
      "outputs": []
    },
    {
      "cell_type": "code",
      "source": [
        "print(이름)"
      ],
      "metadata": {
        "colab": {
          "base_uri": "https://localhost:8080/"
        },
        "id": "7_jOf_rJyxy8",
        "outputId": "6d45aee6-7842-4664-9399-0c6aeeac8a03"
      },
      "execution_count": null,
      "outputs": [
        {
          "output_type": "stream",
          "name": "stdout",
          "text": [
            "유현성\n"
          ]
        }
      ]
    },
    {
      "cell_type": "code",
      "source": [
        "반 = 6"
      ],
      "metadata": {
        "id": "YQKQb2kWzuna"
      },
      "execution_count": null,
      "outputs": []
    },
    {
      "cell_type": "code",
      "source": [
        "print(반)"
      ],
      "metadata": {
        "colab": {
          "base_uri": "https://localhost:8080/"
        },
        "id": "V3wn9Z8dzK_x",
        "outputId": "59d2c76b-81ea-42d6-8959-14710560a832"
      },
      "execution_count": null,
      "outputs": [
        {
          "output_type": "stream",
          "name": "stdout",
          "text": [
            "6\n"
          ]
        }
      ]
    },
    {
      "cell_type": "code",
      "source": [
        "반_데이터타입 = type(반)# type(a) a의 데이터 타입을 파악해줌\n",
        "print(반_데이터타입)"
      ],
      "metadata": {
        "colab": {
          "base_uri": "https://localhost:8080/"
        },
        "id": "JhF-muy8zR56",
        "outputId": "80e912f3-4e17-427b-c9a4-8b6de27fb31c"
      },
      "execution_count": null,
      "outputs": [
        {
          "output_type": "stream",
          "name": "stdout",
          "text": [
            "<class 'int'>\n"
          ]
        }
      ]
    },
    {
      "cell_type": "code",
      "source": [
        "print(0b10)#0b=이진수"
      ],
      "metadata": {
        "colab": {
          "base_uri": "https://localhost:8080/"
        },
        "id": "vmpDKfmx0F-a",
        "outputId": "51d4238b-8b0e-4872-a4ac-327dcdf1e726"
      },
      "execution_count": null,
      "outputs": [
        {
          "output_type": "stream",
          "name": "stdout",
          "text": [
            "2\n"
          ]
        }
      ]
    },
    {
      "cell_type": "code",
      "source": [
        "print(0o10)# 0o =8진수"
      ],
      "metadata": {
        "colab": {
          "base_uri": "https://localhost:8080/"
        },
        "id": "IUUFJ8P00q80",
        "outputId": "c3b7a660-e471-4f84-f163-03456a4294f7"
      },
      "execution_count": null,
      "outputs": [
        {
          "output_type": "stream",
          "name": "stdout",
          "text": [
            "8\n"
          ]
        }
      ]
    },
    {
      "cell_type": "code",
      "source": [
        "print(0xb)# 0x=16진수"
      ],
      "metadata": {
        "colab": {
          "base_uri": "https://localhost:8080/"
        },
        "id": "peTTxRoU0---",
        "outputId": "0a33fd5f-eb0b-4ad6-aaf9-73eb25c6ec38"
      },
      "execution_count": null,
      "outputs": [
        {
          "output_type": "stream",
          "name": "stdout",
          "text": [
            "11\n"
          ]
        }
      ]
    },
    {
      "cell_type": "code",
      "source": [
        "print(3*5)\n",
        "print(10/5)\n",
        "print(9/2)#소수점 첫째 자리까지 계산\n",
        "print(9//2)#//는 몫"
      ],
      "metadata": {
        "colab": {
          "base_uri": "https://localhost:8080/"
        },
        "id": "ichhU25S1Oih",
        "outputId": "1c0abc4b-89bc-47b3-f02d-050295530258"
      },
      "execution_count": null,
      "outputs": [
        {
          "output_type": "stream",
          "name": "stdout",
          "text": [
            "15\n",
            "2.0\n",
            "4.5\n",
            "4\n"
          ]
        }
      ]
    },
    {
      "cell_type": "code",
      "source": [
        "print(2**3)#**는 제곱"
      ],
      "metadata": {
        "colab": {
          "base_uri": "https://localhost:8080/"
        },
        "id": "AHrjXaDd15xa",
        "outputId": "14e3a417-20da-41b0-dee3-1ca700abaac3"
      },
      "execution_count": null,
      "outputs": [
        {
          "output_type": "stream",
          "name": "stdout",
          "text": [
            "8\n"
          ]
        }
      ]
    },
    {
      "cell_type": "code",
      "source": [
        "print(15%10) #%는 나머지"
      ],
      "metadata": {
        "colab": {
          "base_uri": "https://localhost:8080/"
        },
        "id": "el_MH4KJ1-0U",
        "outputId": "3d2ae108-4b8a-4035-a597-c660fe27600c"
      },
      "execution_count": null,
      "outputs": [
        {
          "output_type": "stream",
          "name": "stdout",
          "text": [
            "5\n"
          ]
        }
      ]
    },
    {
      "cell_type": "code",
      "source": [
        "#문자열 만드는 방법 \" \" ' ' \"\"\" \"\"\" ''' ''' AND 문자열 끼리 사칙연산 가능"
      ],
      "metadata": {
        "id": "nUvoZ8qx3ERa"
      },
      "execution_count": null,
      "outputs": []
    },
    {
      "cell_type": "code",
      "source": [
        "A = \"1\"\n",
        "B = \"3\"\n",
        "print(A+B)"
      ],
      "metadata": {
        "colab": {
          "base_uri": "https://localhost:8080/"
        },
        "id": "DqhkcTQX3p6v",
        "outputId": "ccc52cb3-ff46-47e9-b5d0-1608fd85d831"
      },
      "execution_count": null,
      "outputs": [
        {
          "output_type": "stream",
          "name": "stdout",
          "text": [
            "13\n"
          ]
        }
      ]
    },
    {
      "cell_type": "code",
      "source": [
        "이름 = \"유현성\"\n",
        "인사 = \"안녕하세요\"\n",
        "인삿말=(인사+\".\"+\" \"+\"저는\"+\" \"+이름+\"입니다\\n\")\n",
        "print(인삿말)"
      ],
      "metadata": {
        "colab": {
          "base_uri": "https://localhost:8080/"
        },
        "id": "nyyGvAx84B9J",
        "outputId": "3ae9b70d-1a47-40cd-b3d5-1ed93b498bac"
      },
      "execution_count": null,
      "outputs": [
        {
          "output_type": "stream",
          "name": "stdout",
          "text": [
            "안녕하세요. 저는 유현성입니다\n",
            "\n"
          ]
        }
      ]
    },
    {
      "cell_type": "code",
      "source": [
        "이름길이 = len(이름)#len(a) a의 길이를 출력해줌 (a는 문자열) 이름 길이는 int\n",
        "print(이름)\n",
        "print(이름길이)"
      ],
      "metadata": {
        "colab": {
          "base_uri": "https://localhost:8080/"
        },
        "id": "bgxK04zX4rZ0",
        "outputId": "9da8ea23-e824-4b7a-d207-e689cb6b4251"
      },
      "execution_count": null,
      "outputs": [
        {
          "output_type": "stream",
          "name": "stdout",
          "text": [
            "유현성\n",
            "3\n"
          ]
        }
      ]
    },
    {
      "cell_type": "code",
      "source": [
        "print([1,2,3,4,5])#[자료,자료,자료]"
      ],
      "metadata": {
        "id": "GMqlSFa55NPE",
        "colab": {
          "base_uri": "https://localhost:8080/"
        },
        "outputId": "d561b1e1-c5ba-4a80-b79d-88cdb1155351"
      },
      "execution_count": null,
      "outputs": [
        {
          "output_type": "stream",
          "name": "stdout",
          "text": [
            "[1, 2, 3, 4, 5]\n"
          ]
        }
      ]
    },
    {
      "cell_type": "code",
      "source": [
        "배열 = [-1,10,2,\"이름\",[1,2,3,4]]#자료형 구분 없음\n",
        "print(배열)"
      ],
      "metadata": {
        "colab": {
          "base_uri": "https://localhost:8080/"
        },
        "id": "rhfvvbkd9Sov",
        "outputId": "1ac43ebb-e4a3-4f25-8d0d-5f33e177f070"
      },
      "execution_count": null,
      "outputs": [
        {
          "output_type": "stream",
          "name": "stdout",
          "text": [
            "[-1, 10, 2, '이름', [1, 2, 3, 4]]\n"
          ]
        }
      ]
    },
    {
      "cell_type": "code",
      "source": [
        "print(배열[0])\n",
        "print(배열[4][1])#배열 5의 2번째를 꺼냈다.(이차원 리스트)"
      ],
      "metadata": {
        "colab": {
          "base_uri": "https://localhost:8080/"
        },
        "id": "g7q2TOZB9rDS",
        "outputId": "b211de73-257e-4d04-dd40-0b090ccf8b41"
      },
      "execution_count": null,
      "outputs": [
        {
          "output_type": "stream",
          "name": "stdout",
          "text": [
            "-1\n",
            "2\n"
          ]
        }
      ]
    },
    {
      "cell_type": "code",
      "source": [
        "print(배열[len(배열)-1])#마지막 값 꺼내기"
      ],
      "metadata": {
        "colab": {
          "base_uri": "https://localhost:8080/"
        },
        "id": "Rr9ILhKD-fTV",
        "outputId": "54f8a367-af72-4507-c591-6539a9d42dda"
      },
      "execution_count": null,
      "outputs": [
        {
          "output_type": "stream",
          "name": "stdout",
          "text": [
            "[1, 2, 3, 4]\n"
          ]
        }
      ]
    },
    {
      "cell_type": "code",
      "source": [
        "print(배열[-1])#마지막 값 꺼내기"
      ],
      "metadata": {
        "colab": {
          "base_uri": "https://localhost:8080/"
        },
        "id": "8hiagiOY-tBq",
        "outputId": "aa92c08b-8c1d-4e6e-b95f-8be9b5907484"
      },
      "execution_count": null,
      "outputs": [
        {
          "output_type": "stream",
          "name": "stdout",
          "text": [
            "[1, 2, 3, 4]\n"
          ]
        }
      ]
    },
    {
      "cell_type": "code",
      "source": [
        "print(배열[1:3])#원하는 범위 값 꺼내기 배열[a:b] a 이상 b미만 값 꺼내기"
      ],
      "metadata": {
        "colab": {
          "base_uri": "https://localhost:8080/"
        },
        "id": "TGul8ybB-05J",
        "outputId": "f410581d-d229-4991-aca1-21660f7ba81f"
      },
      "execution_count": null,
      "outputs": [
        {
          "output_type": "stream",
          "name": "stdout",
          "text": [
            "[10, 2]\n"
          ]
        }
      ]
    },
    {
      "cell_type": "code",
      "source": [
        "배열[:][-1]=[1,2,3]#[:]는 전체를 의미함\n",
        "print(배열)"
      ],
      "metadata": {
        "colab": {
          "base_uri": "https://localhost:8080/"
        },
        "id": "rtyUGiKv_Rb7",
        "outputId": "599e05b8-4752-4884-a29d-401b1c38f265"
      },
      "execution_count": null,
      "outputs": [
        {
          "output_type": "stream",
          "name": "stdout",
          "text": [
            "[-1, 10, 2, '이름', [1, 2, 3, 4]]\n"
          ]
        }
      ]
    },
    {
      "cell_type": "code",
      "source": [
        "문제 =\"0632208371\"\n",
        "print(len(문제[:-4])*\"*\"+(문제[-4:]))"
      ],
      "metadata": {
        "colab": {
          "base_uri": "https://localhost:8080/"
        },
        "id": "uI03IJh7GDve",
        "outputId": "0ebbe8cb-5b48-4cac-e12f-7a91515e3cea"
      },
      "execution_count": null,
      "outputs": [
        {
          "output_type": "stream",
          "name": "stdout",
          "text": [
            "******8371\n"
          ]
        }
      ]
    },
    {
      "cell_type": "code",
      "source": [
        ""
      ],
      "metadata": {
        "id": "yR4GVCJOG-2P"
      },
      "execution_count": null,
      "outputs": []
    }
  ]
}