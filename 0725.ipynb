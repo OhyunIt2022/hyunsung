{
  "nbformat": 4,
  "nbformat_minor": 0,
  "metadata": {
    "colab": {
      "name": "0725.ipynb",
      "provenance": []
    },
    "kernelspec": {
      "name": "python3",
      "display_name": "Python 3"
    },
    "language_info": {
      "name": "python"
    }
  },
  "cells": [
    {
      "cell_type": "code",
      "execution_count": null,
      "metadata": {
        "id": "AFZNfTshyewl"
      },
      "outputs": [],
      "source": [
        "#추가\n",
        "배열 = [1,2,3,4,5]"
      ]
    },
    {
      "cell_type": "code",
      "source": [
        "print(배열)"
      ],
      "metadata": {
        "colab": {
          "base_uri": "https://localhost:8080/"
        },
        "id": "x9FXf9KQ0TQF",
        "outputId": "280f724c-cb1a-49b8-be79-23ff7cd7448d"
      },
      "execution_count": null,
      "outputs": [
        {
          "output_type": "stream",
          "name": "stdout",
          "text": [
            "[1, 2, 3, 4, 5]\n"
          ]
        }
      ]
    },
    {
      "cell_type": "code",
      "source": [
        "#새로운걸 추가하고싶다.\n",
        "배열.append(6)"
      ],
      "metadata": {
        "id": "P1q2QI4Q0U4T"
      },
      "execution_count": null,
      "outputs": []
    },
    {
      "cell_type": "code",
      "source": [
        "print(배열)"
      ],
      "metadata": {
        "colab": {
          "base_uri": "https://localhost:8080/"
        },
        "id": "sQH2ZSCS0d_g",
        "outputId": "970bbe22-8df3-450c-b9d8-3b9c05bf39bc"
      },
      "execution_count": null,
      "outputs": [
        {
          "output_type": "stream",
          "name": "stdout",
          "text": [
            "[1, 2, 3, 4, 5, 6]\n"
          ]
        }
      ]
    },
    {
      "cell_type": "code",
      "source": [
        "배열.append(7,8) #1개 넘어서 추가 불가"
      ],
      "metadata": {
        "colab": {
          "base_uri": "https://localhost:8080/",
          "height": 174
        },
        "id": "_q72KLMr0gY4",
        "outputId": "bec02a6c-eac8-4f2b-dd3d-588552415490"
      },
      "execution_count": null,
      "outputs": [
        {
          "output_type": "error",
          "ename": "TypeError",
          "evalue": "ignored",
          "traceback": [
            "\u001b[0;31m---------------------------------------------------------------------------\u001b[0m",
            "\u001b[0;31mTypeError\u001b[0m                                 Traceback (most recent call last)",
            "\u001b[0;32m<ipython-input-7-574526e0805a>\u001b[0m in \u001b[0;36m<module>\u001b[0;34m()\u001b[0m\n\u001b[0;32m----> 1\u001b[0;31m \u001b[0m배열\u001b[0m\u001b[0;34m.\u001b[0m\u001b[0mappend\u001b[0m\u001b[0;34m(\u001b[0m\u001b[0;36m7\u001b[0m\u001b[0;34m,\u001b[0m\u001b[0;36m8\u001b[0m\u001b[0;34m)\u001b[0m \u001b[0;31m#1개 넘어서 추가 불가\u001b[0m\u001b[0;34m\u001b[0m\u001b[0;34m\u001b[0m\u001b[0m\n\u001b[0m",
            "\u001b[0;31mTypeError\u001b[0m: append() takes exactly one argument (2 given)"
          ]
        }
      ]
    },
    {
      "cell_type": "code",
      "source": [
        "배열.append([1.2])#배열에는 모든 자료형이 가능"
      ],
      "metadata": {
        "id": "nZcrpdRR0wGx"
      },
      "execution_count": null,
      "outputs": []
    },
    {
      "cell_type": "code",
      "source": [
        "print(배열)"
      ],
      "metadata": {
        "colab": {
          "base_uri": "https://localhost:8080/"
        },
        "id": "GykNCIMF057U",
        "outputId": "84676a92-ea83-46e9-a0af-268f4137c381"
      },
      "execution_count": null,
      "outputs": [
        {
          "output_type": "stream",
          "name": "stdout",
          "text": [
            "[1, 2, 3, 4, 5, 6, [1.2]]\n"
          ]
        }
      ]
    },
    {
      "cell_type": "code",
      "source": [
        "dir(배열)"
      ],
      "metadata": {
        "colab": {
          "base_uri": "https://localhost:8080/"
        },
        "id": "1OCbWUL608bF",
        "outputId": "cbb8d7c0-16fc-4d8c-b236-7f07c3ab512a"
      },
      "execution_count": null,
      "outputs": [
        {
          "output_type": "execute_result",
          "data": {
            "text/plain": [
              "['__add__',\n",
              " '__class__',\n",
              " '__contains__',\n",
              " '__delattr__',\n",
              " '__delitem__',\n",
              " '__dir__',\n",
              " '__doc__',\n",
              " '__eq__',\n",
              " '__format__',\n",
              " '__ge__',\n",
              " '__getattribute__',\n",
              " '__getitem__',\n",
              " '__gt__',\n",
              " '__hash__',\n",
              " '__iadd__',\n",
              " '__imul__',\n",
              " '__init__',\n",
              " '__init_subclass__',\n",
              " '__iter__',\n",
              " '__le__',\n",
              " '__len__',\n",
              " '__lt__',\n",
              " '__mul__',\n",
              " '__ne__',\n",
              " '__new__',\n",
              " '__reduce__',\n",
              " '__reduce_ex__',\n",
              " '__repr__',\n",
              " '__reversed__',\n",
              " '__rmul__',\n",
              " '__setattr__',\n",
              " '__setitem__',\n",
              " '__sizeof__',\n",
              " '__str__',\n",
              " '__subclasshook__',\n",
              " 'append',\n",
              " 'clear',\n",
              " 'copy',\n",
              " 'count',\n",
              " 'extend',\n",
              " 'index',\n",
              " 'insert',\n",
              " 'pop',\n",
              " 'remove',\n",
              " 'reverse',\n",
              " 'sort']"
            ]
          },
          "metadata": {},
          "execution_count": 10
        }
      ]
    },
    {
      "cell_type": "code",
      "source": [
        "배열2 =[3,10,19,100,1,17,23]"
      ],
      "metadata": {
        "id": "uVk7UBhT0_U6"
      },
      "execution_count": null,
      "outputs": []
    },
    {
      "cell_type": "code",
      "source": [
        "print(배열2)"
      ],
      "metadata": {
        "colab": {
          "base_uri": "https://localhost:8080/"
        },
        "id": "4t7FlIw81tvQ",
        "outputId": "02dada69-37b4-4aad-b5ea-3bb41f868904"
      },
      "execution_count": null,
      "outputs": [
        {
          "output_type": "stream",
          "name": "stdout",
          "text": [
            "[3, 10, 19, 100, 1, 17, 23]\n"
          ]
        }
      ]
    },
    {
      "cell_type": "code",
      "source": [
        "배열2.sort()#문자 정렬"
      ],
      "metadata": {
        "id": "xddnFqLM1wm8"
      },
      "execution_count": null,
      "outputs": []
    },
    {
      "cell_type": "code",
      "source": [
        "print(배열2)"
      ],
      "metadata": {
        "colab": {
          "base_uri": "https://localhost:8080/"
        },
        "id": "IktrBmlp14YO",
        "outputId": "1e5f7a59-0868-4598-d871-3a6b8fb82b3b"
      },
      "execution_count": null,
      "outputs": [
        {
          "output_type": "stream",
          "name": "stdout",
          "text": [
            "[1, 3, 10, 17, 19, 23, 100]\n"
          ]
        }
      ]
    },
    {
      "cell_type": "code",
      "source": [
        "문자열배열=['z','c','d','가','나','다']"
      ],
      "metadata": {
        "id": "ThB1hws-16Lu"
      },
      "execution_count": null,
      "outputs": []
    },
    {
      "cell_type": "code",
      "source": [
        "문자열배열.sort()\n",
        "print(문자열배열)"
      ],
      "metadata": {
        "colab": {
          "base_uri": "https://localhost:8080/"
        },
        "id": "8Glc_04C2PFA",
        "outputId": "a3690d01-0763-470c-ea24-9fb90f4d6000"
      },
      "execution_count": null,
      "outputs": [
        {
          "output_type": "stream",
          "name": "stdout",
          "text": [
            "['c', 'd', 'z', '가', '나', '다']\n"
          ]
        }
      ]
    },
    {
      "cell_type": "code",
      "source": [
        "섞인거=[1,10,3,'b','c','d']\n",
        "print(섞인거)"
      ],
      "metadata": {
        "colab": {
          "base_uri": "https://localhost:8080/"
        },
        "id": "lTvG2iBs2T9E",
        "outputId": "34901070-f331-4744-f69e-bdb22c3f5baa"
      },
      "execution_count": null,
      "outputs": [
        {
          "output_type": "stream",
          "name": "stdout",
          "text": [
            "[1, 10, 3, 'b', 'c', 'd']\n"
          ]
        }
      ]
    },
    {
      "cell_type": "code",
      "source": [
        "섞인거.sort()#숫자랑 문자 대소비교 불가"
      ],
      "metadata": {
        "colab": {
          "base_uri": "https://localhost:8080/",
          "height": 174
        },
        "id": "CihWn3pF2a8c",
        "outputId": "be6b7354-989b-469f-ae95-4f4e48d950ed"
      },
      "execution_count": null,
      "outputs": [
        {
          "output_type": "error",
          "ename": "TypeError",
          "evalue": "ignored",
          "traceback": [
            "\u001b[0;31m---------------------------------------------------------------------------\u001b[0m",
            "\u001b[0;31mTypeError\u001b[0m                                 Traceback (most recent call last)",
            "\u001b[0;32m<ipython-input-19-a1d5e6003cd1>\u001b[0m in \u001b[0;36m<module>\u001b[0;34m()\u001b[0m\n\u001b[0;32m----> 1\u001b[0;31m \u001b[0m섞인거\u001b[0m\u001b[0;34m.\u001b[0m\u001b[0msort\u001b[0m\u001b[0;34m(\u001b[0m\u001b[0;34m)\u001b[0m\u001b[0;34m\u001b[0m\u001b[0;34m\u001b[0m\u001b[0m\n\u001b[0m",
            "\u001b[0;31mTypeError\u001b[0m: '<' not supported between instances of 'str' and 'int'"
          ]
        }
      ]
    },
    {
      "cell_type": "code",
      "source": [
        "배열3=[5,2,10]\n",
        "print(배열3)"
      ],
      "metadata": {
        "colab": {
          "base_uri": "https://localhost:8080/"
        },
        "id": "lk8pXAux2diu",
        "outputId": "d115a8bc-5b4a-46b1-c8c1-0452b6b3fba5"
      },
      "execution_count": null,
      "outputs": [
        {
          "output_type": "stream",
          "name": "stdout",
          "text": [
            "[5, 2, 10]\n"
          ]
        }
      ]
    },
    {
      "cell_type": "code",
      "source": [
        "배열3.reverse()#거꾸로 뒤집기\n",
        "print(배열3)"
      ],
      "metadata": {
        "colab": {
          "base_uri": "https://localhost:8080/"
        },
        "id": "mtmjJzer3BL_",
        "outputId": "ee313668-63e2-4a5c-ebea-d15d44488073"
      },
      "execution_count": null,
      "outputs": [
        {
          "output_type": "stream",
          "name": "stdout",
          "text": [
            "[10, 2, 5]\n"
          ]
        }
      ]
    },
    {
      "cell_type": "code",
      "source": [
        "섞인거2 =[1,10,3,'b','c','d']\n",
        "print(섞인거2)"
      ],
      "metadata": {
        "colab": {
          "base_uri": "https://localhost:8080/"
        },
        "id": "2j7bqQIf3JoB",
        "outputId": "b6a0d6bb-893c-424e-a6a1-5d3e22095ea1"
      },
      "execution_count": null,
      "outputs": [
        {
          "output_type": "stream",
          "name": "stdout",
          "text": [
            "[1, 10, 3, 'b', 'c', 'd']\n"
          ]
        }
      ]
    },
    {
      "cell_type": "code",
      "source": [
        "섞인거2.reverse()\n",
        "print(섞인거2)"
      ],
      "metadata": {
        "colab": {
          "base_uri": "https://localhost:8080/"
        },
        "id": "RAsJYiKD3bds",
        "outputId": "b8f5f206-c61d-4dcd-dc4f-fba73ecd4fb1"
      },
      "execution_count": null,
      "outputs": [
        {
          "output_type": "stream",
          "name": "stdout",
          "text": [
            "['d', 'c', 'b', 3, 10, 1]\n"
          ]
        }
      ]
    },
    {
      "cell_type": "code",
      "source": [
        "배열4=[1,2,[1,2,3,]]\n",
        "print(배열4)"
      ],
      "metadata": {
        "colab": {
          "base_uri": "https://localhost:8080/"
        },
        "id": "8x5doMrQ3h6q",
        "outputId": "9d9d9f97-2602-4f48-fc4f-8484e207aa68"
      },
      "execution_count": null,
      "outputs": [
        {
          "output_type": "stream",
          "name": "stdout",
          "text": [
            "[1, 2, [1, 2, 3]]\n"
          ]
        }
      ]
    },
    {
      "cell_type": "code",
      "source": [
        "배열4.reverse()\n",
        "print(배열4)"
      ],
      "metadata": {
        "colab": {
          "base_uri": "https://localhost:8080/"
        },
        "id": "QaVM4ILy3plq",
        "outputId": "bec63ad5-b69c-4116-d45a-be8f7ce86373"
      },
      "execution_count": null,
      "outputs": [
        {
          "output_type": "stream",
          "name": "stdout",
          "text": [
            "[[1, 2, 3], 2, 1]\n"
          ]
        }
      ]
    },
    {
      "cell_type": "code",
      "source": [
        "배열4.reverse()\n",
        "print(배열4)"
      ],
      "metadata": {
        "colab": {
          "base_uri": "https://localhost:8080/"
        },
        "id": "rwQUA8Yl3w3c",
        "outputId": "5a2282cf-b521-4ba5-ef68-dbd00d6f84ad"
      },
      "execution_count": null,
      "outputs": [
        {
          "output_type": "stream",
          "name": "stdout",
          "text": [
            "[1, 2, [1, 2, 3]]\n"
          ]
        }
      ]
    },
    {
      "cell_type": "code",
      "source": [
        "배열4[-1].reverse()\n",
        "print(배열4)"
      ],
      "metadata": {
        "colab": {
          "base_uri": "https://localhost:8080/"
        },
        "id": "csQAjyiz3_C_",
        "outputId": "758056d6-aca0-4fee-ad4b-0e29ecf682b0"
      },
      "execution_count": null,
      "outputs": [
        {
          "output_type": "stream",
          "name": "stdout",
          "text": [
            "[1, 2, [3, 2, 1]]\n"
          ]
        }
      ]
    },
    {
      "cell_type": "code",
      "source": [
        "음식=['라면','치킨','떡볶이','커피','짜장면','불족','피자','치킨']\n",
        "불족인덱스=음식.index('불족')# 배열.index(찾고자 하는값)\n",
        "print(불족인덱스)"
      ],
      "metadata": {
        "colab": {
          "base_uri": "https://localhost:8080/"
        },
        "id": "pXJ3-XV94PcA",
        "outputId": "2fa332f4-8c40-45c6-c79d-e926d0616489"
      },
      "execution_count": null,
      "outputs": [
        {
          "output_type": "stream",
          "name": "stdout",
          "text": [
            "5\n"
          ]
        }
      ]
    },
    {
      "cell_type": "code",
      "source": [
        "음식.index('소고기')#배열 안에 있는 값만 찾을 수 있음"
      ],
      "metadata": {
        "id": "aSQzSw21_yvz"
      },
      "execution_count": null,
      "outputs": []
    },
    {
      "cell_type": "code",
      "source": [
        "떡볶이인덱스= 음식.index('떡볶이')\n",
        "피자인덱스=음식.index('피자')\n",
        "음식2=음식[떡볶이인덱스:피자인덱스]\n",
        "print(음식2)"
      ],
      "metadata": {
        "colab": {
          "base_uri": "https://localhost:8080/"
        },
        "id": "xEfGOg3__7MJ",
        "outputId": "474ec5bf-ec07-4cbe-a520-94e42bc576b7"
      },
      "execution_count": null,
      "outputs": [
        {
          "output_type": "stream",
          "name": "stdout",
          "text": [
            "['떡볶이', '커피', '짜장면', '불족']\n"
          ]
        }
      ]
    },
    {
      "cell_type": "code",
      "source": [
        "음식.insert(불족인덱스,'소고기')\n",
        "print(음식)"
      ],
      "metadata": {
        "colab": {
          "base_uri": "https://localhost:8080/"
        },
        "id": "qz7XGeVrAr_n",
        "outputId": "0c26881a-dad6-4ad1-aa2d-c59d2726babc"
      },
      "execution_count": null,
      "outputs": [
        {
          "output_type": "stream",
          "name": "stdout",
          "text": [
            "['라면', '치킨', '떡볶이', '커피', '짜장면', '소고기', '불족', '피자', '치킨']\n"
          ]
        }
      ]
    },
    {
      "cell_type": "code",
      "source": [
        "음식.pop()"
      ],
      "metadata": {
        "colab": {
          "base_uri": "https://localhost:8080/",
          "height": 35
        },
        "id": "5m3kJYTXBLoX",
        "outputId": "333d8c3a-9bea-41d8-d091-2e701d413e99"
      },
      "execution_count": null,
      "outputs": [
        {
          "output_type": "execute_result",
          "data": {
            "text/plain": [
              "'치킨'"
            ],
            "application/vnd.google.colaboratory.intrinsic+json": {
              "type": "string"
            }
          },
          "metadata": {},
          "execution_count": 39
        }
      ]
    },
    {
      "cell_type": "code",
      "source": [
        "print(음식)"
      ],
      "metadata": {
        "colab": {
          "base_uri": "https://localhost:8080/"
        },
        "id": "qYAUVQuFBo3U",
        "outputId": "c6d7db11-f87d-4f9d-be9c-2086a2ce7e1e"
      },
      "execution_count": null,
      "outputs": [
        {
          "output_type": "stream",
          "name": "stdout",
          "text": [
            "['라면', '치킨', '떡볶이', '커피', '짜장면', '소고기', '불족', '피자']\n"
          ]
        }
      ]
    },
    {
      "cell_type": "code",
      "source": [
        "음식.pop(2)#배열.pop(인덱스),없으면 맨뒤값이 기본"
      ],
      "metadata": {
        "colab": {
          "base_uri": "https://localhost:8080/",
          "height": 35
        },
        "id": "d5jx4n2EBre8",
        "outputId": "b486c80d-37d3-4e70-c5fd-c97c40c07771"
      },
      "execution_count": null,
      "outputs": [
        {
          "output_type": "execute_result",
          "data": {
            "text/plain": [
              "'떡볶이'"
            ],
            "application/vnd.google.colaboratory.intrinsic+json": {
              "type": "string"
            }
          },
          "metadata": {},
          "execution_count": 41
        }
      ]
    },
    {
      "cell_type": "code",
      "source": [
        "print(음식)"
      ],
      "metadata": {
        "colab": {
          "base_uri": "https://localhost:8080/"
        },
        "id": "CUbPkWR4B1Gv",
        "outputId": "66b35d61-52a6-4949-8093-126c0700d31e"
      },
      "execution_count": null,
      "outputs": [
        {
          "output_type": "stream",
          "name": "stdout",
          "text": [
            "['라면', '치킨', '커피', '짜장면', '소고기', '불족', '피자']\n"
          ]
        }
      ]
    },
    {
      "cell_type": "code",
      "source": [
        "음식.remove('불족')"
      ],
      "metadata": {
        "id": "L3aoUzRUB4VZ"
      },
      "execution_count": null,
      "outputs": []
    },
    {
      "cell_type": "code",
      "source": [
        "print(음식)"
      ],
      "metadata": {
        "colab": {
          "base_uri": "https://localhost:8080/"
        },
        "id": "WMt56g5OCOhX",
        "outputId": "a6d5d6e5-051e-4915-ca9a-5fc3de2febe8"
      },
      "execution_count": null,
      "outputs": [
        {
          "output_type": "stream",
          "name": "stdout",
          "text": [
            "['라면', '치킨', '커피', '짜장면', '소고기', '피자']\n"
          ]
        }
      ]
    },
    {
      "cell_type": "code",
      "source": [
        "꺼낸음식 = 음식.pop()#꺼내서 넘겨주는 용도\n",
        "print(꺼낸음식)"
      ],
      "metadata": {
        "colab": {
          "base_uri": "https://localhost:8080/"
        },
        "id": "HYC6YVAYCP6Z",
        "outputId": "d7114068-56d2-4377-d8cf-952b2b85f919"
      },
      "execution_count": null,
      "outputs": [
        {
          "output_type": "stream",
          "name": "stdout",
          "text": [
            "소고기\n"
          ]
        }
      ]
    },
    {
      "cell_type": "code",
      "source": [
        "삭제=음식.remove('라면')#값을 꺼내오지 않음\n",
        "print(삭제)"
      ],
      "metadata": {
        "colab": {
          "base_uri": "https://localhost:8080/"
        },
        "id": "mNE2kzdlCagA",
        "outputId": "78c16432-52f4-471d-f973-9b9c7f00ad32"
      },
      "execution_count": null,
      "outputs": [
        {
          "output_type": "stream",
          "name": "stdout",
          "text": [
            "None\n"
          ]
        }
      ]
    },
    {
      "cell_type": "code",
      "source": [
        "배열5=[1,1,1,2,3,4,4,'하이','하이',1,2,]\n",
        "하이개수=배열5.count('하이')\n",
        "print(하이개수)"
      ],
      "metadata": {
        "colab": {
          "base_uri": "https://localhost:8080/"
        },
        "id": "ChqDT2cICoOM",
        "outputId": "d0a3d363-5fb7-46ea-b3eb-bd2933c094bd"
      },
      "execution_count": null,
      "outputs": [
        {
          "output_type": "stream",
          "name": "stdout",
          "text": [
            "2\n"
          ]
        }
      ]
    },
    {
      "cell_type": "code",
      "source": [
        "일의개수=배열5.count(1)\n",
        "print(일의개수)"
      ],
      "metadata": {
        "colab": {
          "base_uri": "https://localhost:8080/"
        },
        "id": "697Gt9OFDgQx",
        "outputId": "4dee77f5-4b05-4977-c009-d8a54aedbd88"
      },
      "execution_count": null,
      "outputs": [
        {
          "output_type": "stream",
          "name": "stdout",
          "text": [
            "4\n"
          ]
        }
      ]
    },
    {
      "cell_type": "code",
      "source": [
        "없는거=배열5.count('집행검')#없는거 해도됨\n",
        "print(없는거)"
      ],
      "metadata": {
        "colab": {
          "base_uri": "https://localhost:8080/"
        },
        "id": "tUyy8eyZDx9e",
        "outputId": "eb29f8fa-3ff8-43d9-fcfe-3151db4f0360"
      },
      "execution_count": null,
      "outputs": [
        {
          "output_type": "stream",
          "name": "stdout",
          "text": [
            "0\n"
          ]
        }
      ]
    },
    {
      "cell_type": "code",
      "source": [
        "배열6=[1,2,3]\n",
        "배열7=[4,5,6]\n",
        "배열6.extend(배열7)\n",
        "print(배열6,\"배열6\")\n",
        "print(배열7,\"배열7\")"
      ],
      "metadata": {
        "colab": {
          "base_uri": "https://localhost:8080/"
        },
        "id": "Bmljksb5D995",
        "outputId": "3851510e-1f6e-4c83-ba87-010ed586c12f"
      },
      "execution_count": null,
      "outputs": [
        {
          "output_type": "stream",
          "name": "stdout",
          "text": [
            "[1, 2, 3, 4, 5, 6] 배열6\n",
            "[4, 5, 6] 배열7\n"
          ]
        }
      ]
    },
    {
      "cell_type": "code",
      "source": [
        "배열8=[1,2,3]\n",
        "배열9=배열8.copy()\n",
        "print(배열8,\"배열8\")\n",
        "print(배열9,\"배열9\")\n",
        "배열9[0]=10\n",
        "print(배열8,\"배열8\")\n",
        "print(배열9,\"배열9\")"
      ],
      "metadata": {
        "colab": {
          "base_uri": "https://localhost:8080/"
        },
        "id": "VAyVg0dxERs6",
        "outputId": "d5db433a-d15f-4691-87f4-965c3ab49ee7"
      },
      "execution_count": null,
      "outputs": [
        {
          "output_type": "stream",
          "name": "stdout",
          "text": [
            "[1, 2, 3] 배열8\n",
            "[1, 2, 3] 배열9\n",
            "[1, 2, 3] 배열8\n",
            "[10, 2, 3] 배열9\n"
          ]
        }
      ]
    },
    {
      "cell_type": "code",
      "source": [
        "배열10=[1,2,3,4,5]\n",
        "print(배열10)\n",
        "배열10.clear()\n",
        "print(배열10)"
      ],
      "metadata": {
        "colab": {
          "base_uri": "https://localhost:8080/"
        },
        "id": "F1r545VfFoby",
        "outputId": "53634338-558f-4234-e425-e114c52ca1ad"
      },
      "execution_count": null,
      "outputs": [
        {
          "output_type": "stream",
          "name": "stdout",
          "text": [
            "[1, 2, 3, 4, 5]\n",
            "[]\n"
          ]
        }
      ]
    },
    {
      "cell_type": "code",
      "source": [
        "튜플=(1,2,3)\n",
        "print(튜플)"
      ],
      "metadata": {
        "colab": {
          "base_uri": "https://localhost:8080/"
        },
        "id": "8bt8V8t9G_ZX",
        "outputId": "bfe42aff-b146-4f49-9447-6a5bdec7827e"
      },
      "execution_count": null,
      "outputs": [
        {
          "output_type": "stream",
          "name": "stdout",
          "text": [
            "(1, 2, 3)\n"
          ]
        }
      ]
    },
    {
      "cell_type": "code",
      "source": [
        "print(튜플[0])"
      ],
      "metadata": {
        "colab": {
          "base_uri": "https://localhost:8080/"
        },
        "id": "OIMGQw24Hu5l",
        "outputId": "77409826-df23-4d6c-87a2-829c07b8b544"
      },
      "execution_count": null,
      "outputs": [
        {
          "output_type": "stream",
          "name": "stdout",
          "text": [
            "1\n"
          ]
        }
      ]
    },
    {
      "cell_type": "code",
      "source": [
        "튜플[2]=10"
      ],
      "metadata": {
        "colab": {
          "base_uri": "https://localhost:8080/",
          "height": 174
        },
        "id": "QFG84YqqHxbC",
        "outputId": "83e4498c-b654-489b-b7fa-3626e485579e"
      },
      "execution_count": null,
      "outputs": [
        {
          "output_type": "error",
          "ename": "TypeError",
          "evalue": "ignored",
          "traceback": [
            "\u001b[0;31m---------------------------------------------------------------------------\u001b[0m",
            "\u001b[0;31mTypeError\u001b[0m                                 Traceback (most recent call last)",
            "\u001b[0;32m<ipython-input-63-5df9ec316a7a>\u001b[0m in \u001b[0;36m<module>\u001b[0;34m()\u001b[0m\n\u001b[0;32m----> 1\u001b[0;31m \u001b[0m튜플\u001b[0m\u001b[0;34m[\u001b[0m\u001b[0;36m2\u001b[0m\u001b[0;34m]\u001b[0m\u001b[0;34m=\u001b[0m\u001b[0;36m10\u001b[0m\u001b[0;34m\u001b[0m\u001b[0;34m\u001b[0m\u001b[0m\n\u001b[0m",
            "\u001b[0;31mTypeError\u001b[0m: 'tuple' object does not support item assignment"
          ]
        }
      ]
    },
    {
      "cell_type": "code",
      "source": [
        "샘플배열=[1,2,3]\n",
        "print(샘플배열)\n",
        "del 샘플배열[0]\n",
        "print(샘플배열)"
      ],
      "metadata": {
        "colab": {
          "base_uri": "https://localhost:8080/"
        },
        "id": "Ahyy4yRAH1s5",
        "outputId": "4cfcb3ff-ba01-4149-c22e-4be99692d80b"
      },
      "execution_count": null,
      "outputs": [
        {
          "output_type": "stream",
          "name": "stdout",
          "text": [
            "[1, 2, 3]\n",
            "[2, 3]\n"
          ]
        }
      ]
    },
    {
      "cell_type": "code",
      "source": [
        "del 튜플[0]#튜플 제외 모든갓 삭제 가능\n",
        "print(튜플)"
      ],
      "metadata": {
        "colab": {
          "base_uri": "https://localhost:8080/",
          "height": 193
        },
        "id": "2dB81UCsIFFu",
        "outputId": "d2e9923d-e087-4e9d-af51-4fd8518a2071"
      },
      "execution_count": null,
      "outputs": [
        {
          "output_type": "error",
          "ename": "TypeError",
          "evalue": "ignored",
          "traceback": [
            "\u001b[0;31m---------------------------------------------------------------------------\u001b[0m",
            "\u001b[0;31mTypeError\u001b[0m                                 Traceback (most recent call last)",
            "\u001b[0;32m<ipython-input-65-f8e9cf4a699f>\u001b[0m in \u001b[0;36m<module>\u001b[0;34m()\u001b[0m\n\u001b[0;32m----> 1\u001b[0;31m \u001b[0;32mdel\u001b[0m \u001b[0m튜플\u001b[0m\u001b[0;34m[\u001b[0m\u001b[0;36m0\u001b[0m\u001b[0;34m]\u001b[0m\u001b[0;34m\u001b[0m\u001b[0;34m\u001b[0m\u001b[0m\n\u001b[0m\u001b[1;32m      2\u001b[0m \u001b[0mprint\u001b[0m\u001b[0;34m(\u001b[0m\u001b[0m튜플\u001b[0m\u001b[0;34m)\u001b[0m\u001b[0;34m\u001b[0m\u001b[0;34m\u001b[0m\u001b[0m\n",
            "\u001b[0;31mTypeError\u001b[0m: 'tuple' object doesn't support item deletion"
          ]
        }
      ]
    },
    {
      "cell_type": "code",
      "source": [
        "튜플1=(1,2,3,[1,2,3])\n",
        "print(튜플1)\n",
        "튜플1[-1][0]=10\n",
        "print(튜플1)"
      ],
      "metadata": {
        "colab": {
          "base_uri": "https://localhost:8080/"
        },
        "id": "3Ya_wGlkIXyS",
        "outputId": "62540548-edc8-4061-f762-416a80b61f8e"
      },
      "execution_count": null,
      "outputs": [
        {
          "output_type": "stream",
          "name": "stdout",
          "text": [
            "(1, 2, 3, [1, 2, 3])\n",
            "(1, 2, 3, [10, 2, 3])\n"
          ]
        }
      ]
    },
    {
      "cell_type": "code",
      "source": [
        "튜플1[:2]"
      ],
      "metadata": {
        "colab": {
          "base_uri": "https://localhost:8080/"
        },
        "id": "8jC8HAqDIzFy",
        "outputId": "7c1be568-8246-4fcd-e359-605344141cd8"
      },
      "execution_count": null,
      "outputs": [
        {
          "output_type": "execute_result",
          "data": {
            "text/plain": [
              "(1, 2)"
            ]
          },
          "metadata": {},
          "execution_count": 70
        }
      ]
    },
    {
      "cell_type": "code",
      "source": [
        "dir(튜플)"
      ],
      "metadata": {
        "colab": {
          "base_uri": "https://localhost:8080/"
        },
        "id": "Kr47H5I4KBEu",
        "outputId": "ffa25e60-981d-48b4-a74c-04ef593009c3"
      },
      "execution_count": null,
      "outputs": [
        {
          "output_type": "execute_result",
          "data": {
            "text/plain": [
              "['__add__',\n",
              " '__class__',\n",
              " '__contains__',\n",
              " '__delattr__',\n",
              " '__dir__',\n",
              " '__doc__',\n",
              " '__eq__',\n",
              " '__format__',\n",
              " '__ge__',\n",
              " '__getattribute__',\n",
              " '__getitem__',\n",
              " '__getnewargs__',\n",
              " '__gt__',\n",
              " '__hash__',\n",
              " '__init__',\n",
              " '__init_subclass__',\n",
              " '__iter__',\n",
              " '__le__',\n",
              " '__len__',\n",
              " '__lt__',\n",
              " '__mul__',\n",
              " '__ne__',\n",
              " '__new__',\n",
              " '__reduce__',\n",
              " '__reduce_ex__',\n",
              " '__repr__',\n",
              " '__rmul__',\n",
              " '__setattr__',\n",
              " '__sizeof__',\n",
              " '__str__',\n",
              " '__subclasshook__',\n",
              " 'count',\n",
              " 'index']"
            ]
          },
          "metadata": {},
          "execution_count": 71
        }
      ]
    },
    {
      "cell_type": "code",
      "source": [
        "len(튜플)"
      ],
      "metadata": {
        "colab": {
          "base_uri": "https://localhost:8080/"
        },
        "id": "KoEqcYggPZR4",
        "outputId": "e882538b-e4e2-4c88-df94-1e6d38adc308"
      },
      "execution_count": null,
      "outputs": [
        {
          "output_type": "execute_result",
          "data": {
            "text/plain": [
              "3"
            ]
          },
          "metadata": {},
          "execution_count": 72
        }
      ]
    },
    {
      "cell_type": "code",
      "source": [
        "print(type(딕셔너리))"
      ],
      "metadata": {
        "colab": {
          "base_uri": "https://localhost:8080/"
        },
        "id": "LMjP0OeQQKra",
        "outputId": "997e2df2-c2b6-430c-8bc9-3e9df9afcbe4"
      },
      "execution_count": null,
      "outputs": [
        {
          "output_type": "stream",
          "name": "stdout",
          "text": [
            "<class 'dict'>\n"
          ]
        }
      ]
    },
    {
      "cell_type": "code",
      "source": [
        "딕셔너리={'키':'값'}\n",
        "print(딕셔너리)\n",
        "print(딕셔너리['키'])"
      ],
      "metadata": {
        "colab": {
          "base_uri": "https://localhost:8080/"
        },
        "id": "94fO7A-gPujf",
        "outputId": "803cafb8-f15c-4ffc-9563-b936cd02786e"
      },
      "execution_count": null,
      "outputs": [
        {
          "output_type": "stream",
          "name": "stdout",
          "text": [
            "{'키': '값'}\n",
            "값\n"
          ]
        }
      ]
    },
    {
      "cell_type": "code",
      "source": [
        "회원정보={\n",
        "     '이름':'유현성',\n",
        "     \"번호\":\"010-0900-0000\",\n",
        "     '성별':'남'\n",
        "}\n",
        "print(회원정보)"
      ],
      "metadata": {
        "colab": {
          "base_uri": "https://localhost:8080/"
        },
        "id": "qcXCMtG8Qx0Z",
        "outputId": "a5135a7d-400b-423a-efff-fc22a552ce0a"
      },
      "execution_count": null,
      "outputs": [
        {
          "output_type": "stream",
          "name": "stdout",
          "text": [
            "{'이름': '유현성', '번호': '010-0900-0000', '성별': '남'}\n"
          ]
        }
      ]
    },
    {
      "cell_type": "code",
      "source": [
        "회원정보['주소']='제주시'"
      ],
      "metadata": {
        "id": "BhnaEWLMRTuP"
      },
      "execution_count": null,
      "outputs": []
    },
    {
      "cell_type": "code",
      "source": [
        "print(회원정보)"
      ],
      "metadata": {
        "colab": {
          "base_uri": "https://localhost:8080/"
        },
        "id": "qlLG_mE1Rx1v",
        "outputId": "141fc930-412c-4af3-fef2-7cd49e9b44cf"
      },
      "execution_count": null,
      "outputs": [
        {
          "output_type": "stream",
          "name": "stdout",
          "text": [
            "{'이름': '유현성', '번호': '010-0900-0000', '성별': '남', '주소': '제주시'}\n"
          ]
        }
      ]
    },
    {
      "cell_type": "code",
      "source": [
        "회원정보2={\n",
        "    '이름':'유현성',\n",
        "    '번호':'010-0000-0000',\n",
        "    '성별':'남',\n",
        "    '주소':'제주시',\n",
        "    '번호':'010-2133-3485'\n",
        "}\n",
        "print(회원정보2)#중복되는 키는 맨 마지막만 적용"
      ],
      "metadata": {
        "colab": {
          "base_uri": "https://localhost:8080/"
        },
        "id": "hPkiG813R0yE",
        "outputId": "a6e44b19-6a62-41c4-8373-c76133a243f4"
      },
      "execution_count": null,
      "outputs": [
        {
          "output_type": "stream",
          "name": "stdout",
          "text": [
            "{'이름': '유현성', '번호': '010-2133-3485', '성별': '남', '주소': '제주시'}\n"
          ]
        }
      ]
    },
    {
      "cell_type": "code",
      "source": [
        "회원정보.keys()"
      ],
      "metadata": {
        "colab": {
          "base_uri": "https://localhost:8080/"
        },
        "id": "4TTpL_TfSJsD",
        "outputId": "f6a79b95-07f5-47e2-c5e8-49e9a262364a"
      },
      "execution_count": null,
      "outputs": [
        {
          "output_type": "execute_result",
          "data": {
            "text/plain": [
              "dict_keys(['이름', '번호', '성별', '주소'])"
            ]
          },
          "metadata": {},
          "execution_count": 85
        }
      ]
    },
    {
      "cell_type": "code",
      "source": [
        "회원정보키=회원정보.keys()\n",
        "회원정보값=회원정보.values()\n",
        "print(회원정보키,\"키\")\n",
        "print(회원정보값,\"값\")"
      ],
      "metadata": {
        "colab": {
          "base_uri": "https://localhost:8080/"
        },
        "id": "atXT6kQCSO0L",
        "outputId": "9f4d4927-d91c-4651-d6ba-47ee8fc5c1e6"
      },
      "execution_count": null,
      "outputs": [
        {
          "output_type": "stream",
          "name": "stdout",
          "text": [
            "dict_keys(['이름', '번호', '성별', '주소']) 키\n",
            "dict_values(['유현성', '010-0900-0000', '남', '제주시']) 값\n"
          ]
        }
      ]
    },
    {
      "cell_type": "code",
      "source": [
        "print([회원정보,회원정보])"
      ],
      "metadata": {
        "colab": {
          "base_uri": "https://localhost:8080/"
        },
        "id": "ZdfTKWxVSrPN",
        "outputId": "c0fc1810-fe8e-46c0-c35e-87f25b76174c"
      },
      "execution_count": null,
      "outputs": [
        {
          "output_type": "stream",
          "name": "stdout",
          "text": [
            "[{'이름': '유현성', '번호': '010-0900-0000', '성별': '남', '주소': '제주시'}, {'이름': '유현성', '번호': '010-0900-0000', '성별': '남', '주소': '제주시'}]\n"
          ]
        }
      ]
    },
    {
      "cell_type": "code",
      "source": [
        "이름get=회원정보.get('이름')\n",
        "이름=회원정보['이름']\n",
        "print(이름get,'get이용')\n",
        "print(이름,\"key이용하여 가져옴\")"
      ],
      "metadata": {
        "colab": {
          "base_uri": "https://localhost:8080/"
        },
        "id": "xCNx5uV0THid",
        "outputId": "3e1a6e0a-0492-4950-e14d-68891e9c9f60"
      },
      "execution_count": null,
      "outputs": [
        {
          "output_type": "stream",
          "name": "stdout",
          "text": [
            "유현성 get이용\n",
            "유현성 key이용하여 가져옴\n"
          ]
        }
      ]
    },
    {
      "cell_type": "code",
      "source": [
        "샘플딕셔너리={\n",
        "    \"배열1\":[1,2,3]\n",
        "}\n",
        "배열get=샘플딕셔너리.get(\"배열2\")"
      ],
      "metadata": {
        "colab": {
          "base_uri": "https://localhost:8080/",
          "height": 211
        },
        "id": "Nl2ZG-fBTimY",
        "outputId": "802e2363-0663-407d-ddea-2034fc057cf4"
      },
      "execution_count": null,
      "outputs": [
        {
          "output_type": "error",
          "ename": "KeyError",
          "evalue": "ignored",
          "traceback": [
            "\u001b[0;31m---------------------------------------------------------------------------\u001b[0m",
            "\u001b[0;31mKeyError\u001b[0m                                  Traceback (most recent call last)",
            "\u001b[0;32m<ipython-input-92-553d8613004b>\u001b[0m in \u001b[0;36m<module>\u001b[0;34m()\u001b[0m\n\u001b[1;32m      3\u001b[0m }\n\u001b[1;32m      4\u001b[0m \u001b[0m배열get\u001b[0m\u001b[0;34m=\u001b[0m\u001b[0m샘플딕셔너리\u001b[0m\u001b[0;34m.\u001b[0m\u001b[0mget\u001b[0m\u001b[0;34m(\u001b[0m\u001b[0;34m\"배열2\"\u001b[0m\u001b[0;34m)\u001b[0m\u001b[0;34m\u001b[0m\u001b[0;34m\u001b[0m\u001b[0m\n\u001b[0;32m----> 5\u001b[0;31m \u001b[0m배열키로가져오기\u001b[0m\u001b[0;34m=\u001b[0m\u001b[0m샘플딕셔너리\u001b[0m\u001b[0;34m[\u001b[0m\u001b[0;34m'배열2'\u001b[0m\u001b[0;34m]\u001b[0m\u001b[0;34m\u001b[0m\u001b[0;34m\u001b[0m\u001b[0m\n\u001b[0m",
            "\u001b[0;31mKeyError\u001b[0m: '배열2'"
          ]
        }
      ]
    },
    {
      "cell_type": "code",
      "source": [
        "print(배열get)"
      ],
      "metadata": {
        "colab": {
          "base_uri": "https://localhost:8080/"
        },
        "id": "eJ-MfvMsT0CZ",
        "outputId": "13b6bab9-c58d-4546-8b83-0b8e8039e901"
      },
      "execution_count": null,
      "outputs": [
        {
          "output_type": "stream",
          "name": "stdout",
          "text": [
            "None\n"
          ]
        }
      ]
    },
    {
      "cell_type": "code",
      "source": [
        "'이름'in 회원정보"
      ],
      "metadata": {
        "colab": {
          "base_uri": "https://localhost:8080/"
        },
        "id": "vbTTbgaqT5bS",
        "outputId": "0065f65b-3d57-408e-e42f-e99e57a40fb5"
      },
      "execution_count": null,
      "outputs": [
        {
          "output_type": "execute_result",
          "data": {
            "text/plain": [
              "True"
            ]
          },
          "metadata": {},
          "execution_count": 97
        }
      ]
    },
    {
      "cell_type": "code",
      "source": [
        "'직업'in 회원정보"
      ],
      "metadata": {
        "colab": {
          "base_uri": "https://localhost:8080/"
        },
        "id": "1KQszjJnUQZB",
        "outputId": "90ebdfd3-eb03-4b62-d8ca-480c002d5377"
      },
      "execution_count": null,
      "outputs": [
        {
          "output_type": "execute_result",
          "data": {
            "text/plain": [
              "False"
            ]
          },
          "metadata": {},
          "execution_count": 98
        }
      ]
    },
    {
      "cell_type": "code",
      "source": [
        "#Bool 자료형"
      ],
      "metadata": {
        "id": "xAf_oCHeUUvV"
      },
      "execution_count": null,
      "outputs": []
    },
    {
      "cell_type": "code",
      "source": [
        "print(True)"
      ],
      "metadata": {
        "colab": {
          "base_uri": "https://localhost:8080/"
        },
        "id": "DcFqAqwIUlIU",
        "outputId": "70823a6a-86ef-4e9a-d8d9-d02d094c3d2d"
      },
      "execution_count": null,
      "outputs": [
        {
          "output_type": "stream",
          "name": "stdout",
          "text": [
            "True\n"
          ]
        }
      ]
    },
    {
      "cell_type": "code",
      "source": [
        "print(type(True))"
      ],
      "metadata": {
        "colab": {
          "base_uri": "https://localhost:8080/"
        },
        "id": "yS_Ie9V4Up_q",
        "outputId": "ea4b6ddb-a166-4f45-d6c2-a1399b4b14cd"
      },
      "execution_count": null,
      "outputs": [
        {
          "output_type": "stream",
          "name": "stdout",
          "text": [
            "<class 'bool'>\n"
          ]
        }
      ]
    },
    {
      "cell_type": "code",
      "source": [
        "print(False)"
      ],
      "metadata": {
        "colab": {
          "base_uri": "https://localhost:8080/"
        },
        "id": "h6DTasugUw7M",
        "outputId": "4822dde4-01bc-4181-b8fc-70ecfbac5640"
      },
      "execution_count": null,
      "outputs": [
        {
          "output_type": "stream",
          "name": "stdout",
          "text": [
            "False\n"
          ]
        }
      ]
    },
    {
      "cell_type": "code",
      "source": [
        "print(type(False))"
      ],
      "metadata": {
        "colab": {
          "base_uri": "https://localhost:8080/"
        },
        "id": "9U6N5txVU5rC",
        "outputId": "5b1e7226-4c3a-4407-f867-39608d8c7a3c"
      },
      "execution_count": null,
      "outputs": [
        {
          "output_type": "stream",
          "name": "stdout",
          "text": [
            "<class 'bool'>\n"
          ]
        }
      ]
    },
    {
      "cell_type": "code",
      "source": [
        "숫자1=10\n",
        "숫자2=20"
      ],
      "metadata": {
        "id": "gDUop7WGVhRy"
      },
      "execution_count": null,
      "outputs": []
    },
    {
      "cell_type": "code",
      "source": [
        "숫자1<숫자2"
      ],
      "metadata": {
        "colab": {
          "base_uri": "https://localhost:8080/"
        },
        "id": "So0RsqfBVkJE",
        "outputId": "4798f2a4-0ba5-46ac-da80-01533328acb1"
      },
      "execution_count": null,
      "outputs": [
        {
          "output_type": "execute_result",
          "data": {
            "text/plain": [
              "True"
            ]
          },
          "metadata": {},
          "execution_count": 112
        }
      ]
    },
    {
      "cell_type": "code",
      "source": [
        "결과1=숫자1<숫자2\n",
        "print(결과1)"
      ],
      "metadata": {
        "colab": {
          "base_uri": "https://localhost:8080/"
        },
        "id": "80D1XBWOVlYt",
        "outputId": "9129df53-15e4-478c-f095-7d845040ae9b"
      },
      "execution_count": null,
      "outputs": [
        {
          "output_type": "stream",
          "name": "stdout",
          "text": [
            "True\n"
          ]
        }
      ]
    },
    {
      "cell_type": "code",
      "source": [
        "결과2=숫자1>숫자2\n",
        "print(결과2)"
      ],
      "metadata": {
        "colab": {
          "base_uri": "https://localhost:8080/"
        },
        "id": "muJjyL6mVqTt",
        "outputId": "a05b655e-a964-43ca-d43e-aa9b63d6cdde"
      },
      "execution_count": null,
      "outputs": [
        {
          "output_type": "stream",
          "name": "stdout",
          "text": [
            "False\n"
          ]
        }
      ]
    },
    {
      "cell_type": "code",
      "source": [
        "결과3=숫자1>=숫자2\n",
        "결과4=숫자2>=숫자1\n",
        "결과5=숫자1==숫자2\n",
        "결과6=숫자2!=숫자1\n",
        "print(결과3,결과4,결과5,결과6)"
      ],
      "metadata": {
        "colab": {
          "base_uri": "https://localhost:8080/"
        },
        "id": "jdllJuzPVxNz",
        "outputId": "4cbcb97a-2e91-429f-aa4c-3f6ee9b4f630"
      },
      "execution_count": null,
      "outputs": [
        {
          "output_type": "stream",
          "name": "stdout",
          "text": [
            "False True False True\n"
          ]
        }
      ]
    },
    {
      "cell_type": "code",
      "source": [
        "# if True/False 가 들어간다.\n",
        "if False:\n",
        "  print(\"거짓입니다.\")"
      ],
      "metadata": {
        "id": "yfFSChXgWGO7"
      },
      "execution_count": null,
      "outputs": []
    },
    {
      "cell_type": "code",
      "source": [
        "if True:\n",
        "  print(\"참입니다.\")"
      ],
      "metadata": {
        "colab": {
          "base_uri": "https://localhost:8080/"
        },
        "id": "Z6BOOITyWqss",
        "outputId": "836f100a-8952-4248-a889-9228b09e1793"
      },
      "execution_count": null,
      "outputs": [
        {
          "output_type": "stream",
          "name": "stdout",
          "text": [
            "참입니다.\n"
          ]
        }
      ]
    },
    {
      "cell_type": "code",
      "source": [
        "not True"
      ],
      "metadata": {
        "colab": {
          "base_uri": "https://localhost:8080/"
        },
        "id": "Wqo7j9VAWuf9",
        "outputId": "d25f9a56-f302-4b08-b57b-b0871c14b942"
      },
      "execution_count": null,
      "outputs": [
        {
          "output_type": "execute_result",
          "data": {
            "text/plain": [
              "False"
            ]
          },
          "metadata": {},
          "execution_count": 119
        }
      ]
    },
    {
      "cell_type": "code",
      "source": [
        "not False"
      ],
      "metadata": {
        "colab": {
          "base_uri": "https://localhost:8080/"
        },
        "id": "0ZV9dHW-W5Mf",
        "outputId": "3bb523ea-0d83-4467-882b-912bcaa54760"
      },
      "execution_count": null,
      "outputs": [
        {
          "output_type": "execute_result",
          "data": {
            "text/plain": [
              "True"
            ]
          },
          "metadata": {},
          "execution_count": 120
        }
      ]
    },
    {
      "cell_type": "code",
      "source": [
        "조건 =True\n",
        "if not 조건:\n",
        "  print(\"조건에 맞습니다\")\n",
        "else:\n",
        "    print(\"조건에 맞는것이 없습니다.\")"
      ],
      "metadata": {
        "colab": {
          "base_uri": "https://localhost:8080/"
        },
        "id": "2tmYBB_hXAap",
        "outputId": "81141e56-661c-4df1-d77d-ac60e23b75e9"
      },
      "execution_count": null,
      "outputs": [
        {
          "output_type": "stream",
          "name": "stdout",
          "text": [
            "조건에 맞는것이 없습니다.\n"
          ]
        }
      ]
    },
    {
      "cell_type": "code",
      "source": [
        "숫자1=1\n",
        "숫자2=10\n",
        "숫자3=15\n",
        "if 숫자1>5:\n",
        "  print(\"숫자1이 5보다 큽니다.\")\n",
        "elif 숫자2<11:\n",
        "  print(\"숫자2가 11보다 작습니다.\")\n",
        "else:\n",
        "  print(숫자3,\"마지막숫자입니다\")"
      ],
      "metadata": {
        "colab": {
          "base_uri": "https://localhost:8080/"
        },
        "id": "BLFjfHKbXejy",
        "outputId": "849cc62c-4c6b-4e88-b37c-1773eaefc187"
      },
      "execution_count": null,
      "outputs": [
        {
          "output_type": "stream",
          "name": "stdout",
          "text": [
            "숫자2가 11보다 작습니다.\n"
          ]
        }
      ]
    },
    {
      "cell_type": "code",
      "source": [
        "print(False and False)"
      ],
      "metadata": {
        "colab": {
          "base_uri": "https://localhost:8080/"
        },
        "id": "9BizeqrKYZNA",
        "outputId": "1434b56d-87d8-4333-d58e-40f7011588c5"
      },
      "execution_count": null,
      "outputs": [
        {
          "output_type": "stream",
          "name": "stdout",
          "text": [
            "False\n"
          ]
        }
      ]
    },
    {
      "cell_type": "code",
      "source": [
        "숫자1=1\n",
        "숫자2=10\n",
        "숫자3=15\n",
        "if 숫자1>5 or 숫자2<11:\n",
        "  print(\"숫자1이 5보다 큽니다.\")\n",
        "elif 숫자2<11:\n",
        "  print(\"숫자2가 11보다 작습니다.\")\n",
        "else:\n",
        "  print(숫자3,\"마지막숫자입니다\")"
      ],
      "metadata": {
        "colab": {
          "base_uri": "https://localhost:8080/"
        },
        "id": "gJYeT_-BZPv9",
        "outputId": "5de8ee17-54d9-49f2-ecfa-53e66631e317"
      },
      "execution_count": null,
      "outputs": [
        {
          "output_type": "stream",
          "name": "stdout",
          "text": [
            "숫자1이 5보다 큽니다.\n"
          ]
        }
      ]
    },
    {
      "cell_type": "code",
      "source": [
        "입력받은값=input()"
      ],
      "metadata": {
        "colab": {
          "base_uri": "https://localhost:8080/"
        },
        "id": "9bOtSok4ZgbA",
        "outputId": "e0a352ab-114d-43c5-e6f5-d68c08dc5c9a"
      },
      "execution_count": null,
      "outputs": [
        {
          "name": "stdout",
          "output_type": "stream",
          "text": [
            "10\n"
          ]
        }
      ]
    },
    {
      "cell_type": "code",
      "source": [
        "print(입력받은값)"
      ],
      "metadata": {
        "colab": {
          "base_uri": "https://localhost:8080/"
        },
        "id": "QRjQkCJdZ0v8",
        "outputId": "af449d75-6ce8-4f5f-8b7d-ba29e20ae1b4"
      },
      "execution_count": null,
      "outputs": [
        {
          "output_type": "stream",
          "name": "stdout",
          "text": [
            "10\n"
          ]
        }
      ]
    },
    {
      "cell_type": "code",
      "source": [
        "print(입력받은값>5)"
      ],
      "metadata": {
        "colab": {
          "base_uri": "https://localhost:8080/",
          "height": 174
        },
        "id": "p6k5LtgxZ33g",
        "outputId": "f4b3f726-63db-44a7-fbfb-4bc10a8b7d59"
      },
      "execution_count": null,
      "outputs": [
        {
          "output_type": "error",
          "ename": "TypeError",
          "evalue": "ignored",
          "traceback": [
            "\u001b[0;31m---------------------------------------------------------------------------\u001b[0m",
            "\u001b[0;31mTypeError\u001b[0m                                 Traceback (most recent call last)",
            "\u001b[0;32m<ipython-input-132-3413a196d0a9>\u001b[0m in \u001b[0;36m<module>\u001b[0;34m()\u001b[0m\n\u001b[0;32m----> 1\u001b[0;31m \u001b[0mprint\u001b[0m\u001b[0;34m(\u001b[0m\u001b[0m입력받은값\u001b[0m\u001b[0;34m>\u001b[0m\u001b[0;36m5\u001b[0m\u001b[0;34m)\u001b[0m\u001b[0;34m\u001b[0m\u001b[0;34m\u001b[0m\u001b[0m\n\u001b[0m",
            "\u001b[0;31mTypeError\u001b[0m: '>' not supported between instances of 'str' and 'int'"
          ]
        }
      ]
    },
    {
      "cell_type": "code",
      "source": [
        "print(type(입력받은값))"
      ],
      "metadata": {
        "colab": {
          "base_uri": "https://localhost:8080/"
        },
        "id": "GEYbnxSmZ_MP",
        "outputId": "62bd15d2-3b19-403a-eede-6297a8548db4"
      },
      "execution_count": null,
      "outputs": [
        {
          "output_type": "stream",
          "name": "stdout",
          "text": [
            "<class 'str'>\n"
          ]
        }
      ]
    },
    {
      "cell_type": "code",
      "source": [
        "int(입력받은값)"
      ],
      "metadata": {
        "colab": {
          "base_uri": "https://localhost:8080/"
        },
        "id": "fHsjLEiGaf0d",
        "outputId": "c384ae52-31be-4d1f-aa9d-f3d81b199d9e"
      },
      "execution_count": null,
      "outputs": [
        {
          "output_type": "execute_result",
          "data": {
            "text/plain": [
              "10"
            ]
          },
          "metadata": {},
          "execution_count": 134
        }
      ]
    },
    {
      "cell_type": "code",
      "source": [
        "입력받은숫자=int(입력받은값)"
      ],
      "metadata": {
        "id": "0ySx6_jYaklY"
      },
      "execution_count": null,
      "outputs": []
    },
    {
      "cell_type": "code",
      "source": [
        "print(type(입력받은숫자))"
      ],
      "metadata": {
        "colab": {
          "base_uri": "https://localhost:8080/"
        },
        "id": "QmJTPFSOap-c",
        "outputId": "268572e3-ebee-4ad2-e4a4-c840ffd5237a"
      },
      "execution_count": null,
      "outputs": [
        {
          "output_type": "stream",
          "name": "stdout",
          "text": [
            "<class 'int'>\n"
          ]
        }
      ]
    },
    {
      "cell_type": "code",
      "source": [
        "입력받은값1=input()\n",
        "첫번째숫자=int(입력받은값1)\n",
        "입력받은값2=input()\n",
        "두번째숫자=int(입력받은값2)\n",
        "if (첫번째숫자>두번째숫자):\n",
        "  print(\"첫번째숫자가 큽니다.\")\n",
        "elif(첫번째숫자==두번째숫자):\n",
        "  print(\"숫자가 같습니다\")\n",
        "else:\n",
        "  print(\"두번째숫자가 큽니다.\")    \n",
        "\n"
      ],
      "metadata": {
        "colab": {
          "base_uri": "https://localhost:8080/"
        },
        "id": "4neEBKRIas-h",
        "outputId": "a8891876-459c-4dae-ab61-9503335a6c4e"
      },
      "execution_count": null,
      "outputs": [
        {
          "output_type": "stream",
          "name": "stdout",
          "text": [
            "1\n",
            "3589712523655978\n",
            "두번째숫자가 큽니다.\n"
          ]
        }
      ]
    },
    {
      "cell_type": "code",
      "source": [
        "#while True인동안:\n",
        "카운트=0\n",
        "while 카운트<10:\n",
        "  print(카운트)\n",
        "  카운트=카운트+1"
      ],
      "metadata": {
        "colab": {
          "base_uri": "https://localhost:8080/"
        },
        "id": "l48gXQT_b59S",
        "outputId": "cf2aa5e2-ad76-474a-f51f-37a4573f3f29"
      },
      "execution_count": null,
      "outputs": [
        {
          "output_type": "stream",
          "name": "stdout",
          "text": [
            "0\n",
            "1\n",
            "2\n",
            "3\n",
            "4\n",
            "5\n",
            "6\n",
            "7\n",
            "8\n",
            "9\n"
          ]
        }
      ]
    },
    {
      "cell_type": "code",
      "source": [
        "카운트=0\n",
        "while 카운트<10:\n",
        "  print(카운트)\n",
        "  카운트=카운트+1\n",
        "  if(카운트>5):\n",
        "    break"
      ],
      "metadata": {
        "colab": {
          "base_uri": "https://localhost:8080/"
        },
        "id": "eRHW2BcBfqBK",
        "outputId": "1078f8ea-1797-4892-e404-914acf210242"
      },
      "execution_count": null,
      "outputs": [
        {
          "output_type": "stream",
          "name": "stdout",
          "text": [
            "0\n",
            "1\n",
            "2\n",
            "3\n",
            "4\n",
            "5\n"
          ]
        }
      ]
    },
    {
      "cell_type": "code",
      "source": [
        "카운트=0\n",
        "while 카운트<10:\n",
        "  카운트=카운트+1\n",
        "  if(카운트==1):\n",
        "    continue\n",
        "  if(카운트%2==1):\n",
        "    print(카운트)"
      ],
      "metadata": {
        "colab": {
          "base_uri": "https://localhost:8080/"
        },
        "id": "59eNlrFVf3fd",
        "outputId": "3096bcbf-05b2-4495-b55c-c6cd83a07da4"
      },
      "execution_count": null,
      "outputs": [
        {
          "output_type": "stream",
          "name": "stdout",
          "text": [
            "3\n",
            "5\n",
            "7\n",
            "9\n"
          ]
        }
      ]
    },
    {
      "cell_type": "code",
      "source": [
        "문자=\"도레미파솔라시도\"\n",
        "for 숫자 in 문자:\n",
        "  print(숫자)"
      ],
      "metadata": {
        "colab": {
          "base_uri": "https://localhost:8080/"
        },
        "id": "8ezqD7L9hDEw",
        "outputId": "e5bc9e6f-1c3d-453d-c512-d84406c9dc00"
      },
      "execution_count": null,
      "outputs": [
        {
          "output_type": "stream",
          "name": "stdout",
          "text": [
            "도\n",
            "레\n",
            "미\n",
            "파\n",
            "솔\n",
            "라\n",
            "시\n",
            "도\n"
          ]
        }
      ]
    },
    {
      "cell_type": "code",
      "source": [
        "레인지=range(10)\n",
        "print(레인지)"
      ],
      "metadata": {
        "colab": {
          "base_uri": "https://localhost:8080/"
        },
        "id": "4itVqbo8h03J",
        "outputId": "96efc95e-0b51-4a7f-afd3-7c2fbad189d7"
      },
      "execution_count": null,
      "outputs": [
        {
          "output_type": "stream",
          "name": "stdout",
          "text": [
            "range(0, 10)\n"
          ]
        }
      ]
    },
    {
      "cell_type": "code",
      "source": [
        "for 숫자 in range(2,10):\n",
        "  for 숫자2 in range(1,10):\n",
        "    print(숫자,\"X\",숫자2,\"=\",숫자*숫자2)"
      ],
      "metadata": {
        "colab": {
          "base_uri": "https://localhost:8080/"
        },
        "id": "lnvPPKhAieHh",
        "outputId": "4d9cf02f-0889-49f2-925b-3a78879c3a10"
      },
      "execution_count": null,
      "outputs": [
        {
          "output_type": "stream",
          "name": "stdout",
          "text": [
            "2 X 1 = 2\n",
            "2 X 2 = 4\n",
            "2 X 3 = 6\n",
            "2 X 4 = 8\n",
            "2 X 5 = 10\n",
            "2 X 6 = 12\n",
            "2 X 7 = 14\n",
            "2 X 8 = 16\n",
            "2 X 9 = 18\n",
            "3 X 1 = 3\n",
            "3 X 2 = 6\n",
            "3 X 3 = 9\n",
            "3 X 4 = 12\n",
            "3 X 5 = 15\n",
            "3 X 6 = 18\n",
            "3 X 7 = 21\n",
            "3 X 8 = 24\n",
            "3 X 9 = 27\n",
            "4 X 1 = 4\n",
            "4 X 2 = 8\n",
            "4 X 3 = 12\n",
            "4 X 4 = 16\n",
            "4 X 5 = 20\n",
            "4 X 6 = 24\n",
            "4 X 7 = 28\n",
            "4 X 8 = 32\n",
            "4 X 9 = 36\n",
            "5 X 1 = 5\n",
            "5 X 2 = 10\n",
            "5 X 3 = 15\n",
            "5 X 4 = 20\n",
            "5 X 5 = 25\n",
            "5 X 6 = 30\n",
            "5 X 7 = 35\n",
            "5 X 8 = 40\n",
            "5 X 9 = 45\n",
            "6 X 1 = 6\n",
            "6 X 2 = 12\n",
            "6 X 3 = 18\n",
            "6 X 4 = 24\n",
            "6 X 5 = 30\n",
            "6 X 6 = 36\n",
            "6 X 7 = 42\n",
            "6 X 8 = 48\n",
            "6 X 9 = 54\n",
            "7 X 1 = 7\n",
            "7 X 2 = 14\n",
            "7 X 3 = 21\n",
            "7 X 4 = 28\n",
            "7 X 5 = 35\n",
            "7 X 6 = 42\n",
            "7 X 7 = 49\n",
            "7 X 8 = 56\n",
            "7 X 9 = 63\n",
            "8 X 1 = 8\n",
            "8 X 2 = 16\n",
            "8 X 3 = 24\n",
            "8 X 4 = 32\n",
            "8 X 5 = 40\n",
            "8 X 6 = 48\n",
            "8 X 7 = 56\n",
            "8 X 8 = 64\n",
            "8 X 9 = 72\n",
            "9 X 1 = 9\n",
            "9 X 2 = 18\n",
            "9 X 3 = 27\n",
            "9 X 4 = 36\n",
            "9 X 5 = 45\n",
            "9 X 6 = 54\n",
            "9 X 7 = 63\n",
            "9 X 8 = 72\n",
            "9 X 9 = 81\n"
          ]
        }
      ]
    },
    {
      "cell_type": "code",
      "source": [
        "while True:\n",
        "  입력숫자=input()\n",
        "  구구단=int(입력숫자)\n",
        "  if 구구단==0:\n",
        "    break\n",
        "  if 입력숫자<0 and 입력숫자>10:\n",
        "    ㅔ갸ㅜㅅ"
      ],
      "metadata": {
        "colab": {
          "base_uri": "https://localhost:8080/",
          "height": 137
        },
        "id": "gb7msxB3itnS",
        "outputId": "7f7b4001-b82f-479a-eb22-26724058e37c"
      },
      "execution_count": null,
      "outputs": [
        {
          "output_type": "error",
          "ename": "IndentationError",
          "evalue": "ignored",
          "traceback": [
            "\u001b[0;36m  File \u001b[0;32m\"<ipython-input-170-e6c1e243fbdc>\"\u001b[0;36m, line \u001b[0;32m4\u001b[0m\n\u001b[0;31m    if(구구단>10):\u001b[0m\n\u001b[0m     ^\u001b[0m\n\u001b[0;31mIndentationError\u001b[0m\u001b[0;31m:\u001b[0m expected an indented block\n"
          ]
        }
      ]
    },
    {
      "cell_type": "code",
      "source": [
        ""
      ],
      "metadata": {
        "id": "eeTYRfXJmgX4"
      },
      "execution_count": null,
      "outputs": []
    }
  ]
}